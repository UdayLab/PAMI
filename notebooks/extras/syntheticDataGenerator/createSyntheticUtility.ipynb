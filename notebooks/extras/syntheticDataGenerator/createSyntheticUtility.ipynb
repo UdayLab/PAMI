{
  "nbformat": 4,
  "nbformat_minor": 0,
  "metadata": {
    "colab": {
      "provenance": [],
      "authorship_tag": "ABX9TyPa9Z5IsqA99nzl8M/FT7Ap",
      "include_colab_link": true
    },
    "kernelspec": {
      "name": "python3",
      "display_name": "Python 3"
    },
    "language_info": {
      "name": "python"
    }
  },
  "cells": [
    {
      "cell_type": "markdown",
      "metadata": {
        "id": "view-in-github",
        "colab_type": "text"
      },
      "source": [
        "<a href=\"https://colab.research.google.com/github/Avvari1830S/PAMI/blob/main/notebooks/extras/syntheticDataGenerator/createSyntheticUtility.ipynb\" target=\"_parent\"><img src=\"https://colab.research.google.com/assets/colab-badge.svg\" alt=\"Open In Colab\"/></a>"
      ]
    },
    {
      "cell_type": "code",
      "execution_count": null,
      "metadata": {
        "id": "RLFeRRqneKor"
      },
      "outputs": [],
      "source": [
        "import random as _rd\n",
        "import sys as _sys\n",
        "\n",
        "\n",
        "class createSyntheticUtility:\n",
        "    \"\"\"\n",
        "        This class create synthetic utility database.\n",
        "\n",
        "        Attribute:\n",
        "        ----------\n",
        "        totalTransactions : int\n",
        "            No of transactions\n",
        "        noOfItems : int\n",
        "            No of items\n",
        "        maxUtilRange: int\n",
        "            Maximum utility range\n",
        "        avgTransactionLength : int\n",
        "            The length of average transaction\n",
        "        outputFile: str\n",
        "            Name of the output file.\n",
        "\n",
        "        Nethods:\n",
        "        --------\n",
        "        createUtilitylDatabase(outputFile)\n",
        "            Create utility database from DataFrame and store into outputFile\n",
        "\n",
        "        Credits:\n",
        "        ---------\n",
        "             The complete program was written by  P.Likhitha   under the supervision of Professor Rage Uday Kiran.\n",
        "\n",
        "    \"\"\"\n",
        "\n",
        "    def __init__(self, transactions: int, items: int, maxUtilRange: int, avgTransaction: int) -> None:\n",
        "        self._totalTransactions = transactions\n",
        "        self._noOfItems = items\n",
        "        self._maxUtilRange = maxUtilRange\n",
        "        self._avgTransactionLength = avgTransaction\n",
        "\n",
        "    def createUtilityDatabase(self, outputFile: str) -> None:\n",
        "        \"\"\"\n",
        "        create transactional database and return outputFileName\n",
        "        :param outputFile: file name or path to store database\n",
        "        :type outputFile: str\n",
        "        :return: outputFile name\n",
        "        \"\"\"\n",
        "        writer = open(outputFile, 'w+')\n",
        "        for i in range(self._totalTransactions):\n",
        "            length = _rd.randint(1, self._avgTransactionLength + 20)\n",
        "            st = str()\n",
        "            st1 = str()\n",
        "            su = []\n",
        "            for i in range(length):\n",
        "                item = _rd.randint(1, self._noOfItems)\n",
        "                utility = _rd.randint(1, self._maxUtilRange)\n",
        "                st = st + str(item) + '\\t'\n",
        "                su.append(utility)\n",
        "                st1 = st1 + str(utility) + '\\t'\n",
        "            summation = sum([i for i in su])\n",
        "            st = st + \":\" + str(summation) + \":\"\n",
        "            writer.write(\"%s\" % st)\n",
        "            writer.write(\"%s \\n\" % st1)\n",
        "\n",
        "if __name__ == \"__main__\":\n",
        "    _ap = str()\n",
        "    _ap = createSyntheticUtility(100000, 870, 100, 10)\n",
        "    _ap.createUtilityDatabase(\"T10_util.txt\")\n",
        "else:\n",
        "    print(\"Error! The number of input parameters do not match the total number of parameters provided\")"
      ]
    }
  ]
}