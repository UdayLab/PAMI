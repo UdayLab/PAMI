{
  "nbformat": 4,
  "nbformat_minor": 0,
  "metadata": {
    "colab": {
      "provenance": [],
      "authorship_tag": "ABX9TyM6EuNv+Gl3hUE5pVRiqaTa",
      "include_colab_link": true
    },
    "kernelspec": {
      "name": "python3",
      "display_name": "Python 3"
    },
    "language_info": {
      "name": "python"
    }
  },
  "cells": [
    {
      "cell_type": "markdown",
      "metadata": {
        "id": "view-in-github",
        "colab_type": "text"
      },
      "source": [
        "<a href=\"https://colab.research.google.com/github/Avvari1830S/PAMI/blob/main/notebooks/extras/syntheticDataGenerator/createSyntheticGeoreferentialTransactions.ipynb\" target=\"_parent\"><img src=\"https://colab.research.google.com/assets/colab-badge.svg\" alt=\"Open In Colab\"/></a>"
      ]
    },
    {
      "cell_type": "code",
      "execution_count": null,
      "metadata": {
        "id": "JOpIZF41aqsp"
      },
      "outputs": [],
      "source": [
        "import random as _rd\n",
        "import sys as _sys\n",
        "\n",
        "\n",
        "class createSyntheticGeoreferentialTransaction:\n",
        "    \"\"\"\n",
        "        This class create synthetic geo-referential transaction database.\n",
        "\n",
        "        Attribute:\n",
        "        ----------\n",
        "        totalTransactions : int\n",
        "            No of transactions\n",
        "        items : int\n",
        "            No of items\n",
        "        avgTransactionLength : str\n",
        "            The length of average transaction\n",
        "        outputFile: str\n",
        "            Name of the output file.\n",
        "\n",
        "        Methods:\n",
        "        --------\n",
        "        createGeoreferentialTransactionDatabase(outputFile)\n",
        "            Create geo-referential transactional database and store into outputFile\n",
        "\n",
        "\n",
        "        Credits:\n",
        "        ---------\n",
        "             The complete program was written by  P.Likhitha   under the supervision of Professor Rage Uday Kiran.\n",
        "\n",
        "    \"\"\"\n",
        "\n",
        "    def __init__(self, transactions, items, avgTransaction):\n",
        "        self._totalTransactions = transactions\n",
        "        self._noOfItems = items\n",
        "        self._avgTransactionLength = avgTransaction\n",
        "\n",
        "    def createGeoreferentialTransactionalDatabase(self, outputFile):\n",
        "        \"\"\"\n",
        "        create transactional database and return outputFileName\n",
        "        :param outputFile: file name or path to store database\n",
        "        :type outputFile: str\n",
        "        :return: outputFile name\n",
        "        \"\"\"\n",
        "        writer = open(outputFile, 'w+')\n",
        "        items = []\n",
        "        for i in range(self._noOfItems):\n",
        "            lat = _rd.randint(1, self._noOfItems)\n",
        "            lon = _rd.randint(1, self._noOfItems)\n",
        "            if lat == lon:\n",
        "                lon = _rd.randint(1, self._noOfItems)\n",
        "            stt = '(' + str(lat) + ' ' + str(lon) + ')'\n",
        "            items.append(stt)\n",
        "        for i in range(self._totalTransactions):\n",
        "            length = _rd.randint(1, self._avgTransactionLength + 20)\n",
        "            st = str()\n",
        "            for i in range(length):\n",
        "                rd = _rd.randint(0, len(items) - 1)\n",
        "                item = items[rd]\n",
        "                st = st + str(item) + '\\t'\n",
        "            writer.write(\"%s \\n\" % st)\n",
        "\n",
        "if __name__ == \"__main__\":\n",
        "    _ap = str()\n",
        "    _ap = createSyntheticGeoreferentialTransaction(100000, 870, 10)\n",
        "    _ap.createGeoreferentialTransactionalDatabase(\"T10_geo.txt\")\n",
        "else:\n",
        "    print(\"Error! The number of input parameters do not match the total number of parameters provided\")"
      ]
    }
  ]
}