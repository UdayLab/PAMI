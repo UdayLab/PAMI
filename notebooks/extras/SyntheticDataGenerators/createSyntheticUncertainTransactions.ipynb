{
  "nbformat": 4,
  "nbformat_minor": 0,
  "metadata": {
    "colab": {
      "provenance": [],
      "authorship_tag": "ABX9TyNDWANqCiSu7694y74TBwrO",
      "include_colab_link": true
    },
    "kernelspec": {
      "name": "python3",
      "display_name": "Python 3"
    },
    "language_info": {
      "name": "python"
    }
  },
  "cells": [
    {
      "cell_type": "markdown",
      "metadata": {
        "id": "view-in-github",
        "colab_type": "text"
      },
      "source": [
        "<a href=\"https://colab.research.google.com/github/Avvari1830S/PAMI/blob/main/notebooks/extras/SyntheticDataGenerators/createSyntheticUncertainTransaction.ipynb\" target=\"_parent\"><img src=\"https://colab.research.google.com/assets/colab-badge.svg\" alt=\"Open In Colab\"/></a>"
      ]
    },
    {
      "cell_type": "code",
      "execution_count": null,
      "metadata": {
        "id": "Wy5dlYIgcoSl"
      },
      "outputs": [],
      "source": [
        "import random as _rd\n",
        "import sys as _sys\n",
        "\n",
        "\n",
        "class createSyntheticUncertainTransaction:\n",
        "    \"\"\"\n",
        "        This class create synthetic transaction database.\n",
        "\n",
        "        Attribute:\n",
        "        ----------\n",
        "        totalTransactions : int\n",
        "            No of transactions\n",
        "        noOfItems : int\n",
        "            No of items\n",
        "        avgTransactionLength : str\n",
        "            The length of average transaction\n",
        "        outputFile: str\n",
        "            Name of the output file.\n",
        "\n",
        "        Nethods:\n",
        "        --------\n",
        "        createUncertainTransactionalDatabase(outputFile)\n",
        "            Create uncertain transactional database and store into outputFile\n",
        "\n",
        "        Credits:\n",
        "        ---------\n",
        "             The complete program was written by  P.Likhitha   under the supervision of Professor Rage Uday Kiran.\n",
        "\n",
        "    \"\"\"\n",
        "\n",
        "    def __init__(self, transactions: int, items: int, avgTransaction: int) -> None:\n",
        "        self._totalTransactions = transactions\n",
        "        self._noOfItems = items\n",
        "        self._avgTransactionLength = avgTransaction\n",
        "\n",
        "    def createUncertainTransactionalDatabase(self, outputFile: str) -> None:\n",
        "        \"\"\"\n",
        "        create transactional database and return outputFileName\n",
        "        :param outputFile: file name or path to store database\n",
        "        :type outputFile: str\n",
        "        :return: outputFile name\n",
        "        \"\"\"\n",
        "        writer = open(outputFile, 'w+')\n",
        "        for i in range(self._totalTransactions):\n",
        "            length = _rd.randint(1, self._avgTransactionLength + 20)\n",
        "            st = str()\n",
        "            st1 = str()\n",
        "            for i in range(length):\n",
        "                item = _rd.randint(1, self._noOfItems)\n",
        "                probability = _rd.uniform(0, 1)\n",
        "                st = st + str(item) + '\\t'\n",
        "                st1 = st1 + str(probability) + '\\t'\n",
        "            writer.write(\"%s:\" % st)\n",
        "            writer.write(\"%s \\n\" % st1)\n",
        "\n",
        "\n",
        "if __name__ == \"__main__\":\n",
        "    _ap = str()\n",
        "    _ap = createSyntheticUncertainTransaction(100000, 870, 10)\n",
        "    _ap.createUncertainTransactionalDatabase(\"T10_uncertain.txt\")\n",
        "else:\n",
        "    print(\"Error! The number of input parameters do not match the total number of parameters provided\")"
      ]
    }
  ]
}