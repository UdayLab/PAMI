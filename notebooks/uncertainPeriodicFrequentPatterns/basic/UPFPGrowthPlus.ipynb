{
  "cells": [
    {
      "cell_type": "markdown",
      "metadata": {
        "id": "view-in-github",
        "colab_type": "text"
      },
      "source": [
        "<a href=\"https://colab.research.google.com/github/vanithakattumuri/PAMI/blob/main/notebooks/uncertainPeriodicFrequentPatterns/basic/UPFPGrowthPlus.ipynb\" target=\"_parent\"><img src=\"https://colab.research.google.com/assets/colab-badge.svg\" alt=\"Open In Colab\"/></a>"
      ]
    },
    {
      "cell_type": "markdown",
      "metadata": {
        "id": "XZ4vrXSQ1yEs"
      },
      "source": [
        "# Finding Periodic Frequent patterns in Uncertain Temporal Databases using UPFPGrowthPlus"
      ]
    },
    {
      "cell_type": "markdown",
      "metadata": {
        "id": "roOSCMZX2Eb2"
      },
      "source": [
        "This tutorial has two parts. In the first part, we describe the basic approach to find Uncertain Periodic Frequent patterns in a temporal database using the UPFPGrowthPlus algorithm. In the final part, we describe an advanced approach, where we evaluate the UPFPGrowthPlus algorithm on a dataset at different minimum support threshold values.\n",
        "***"
      ]
    },
    {
      "cell_type": "markdown",
      "metadata": {
        "id": "TFlIIF_X2SzU"
      },
      "source": [
        "# Prerequisites:"
      ]
    },
    {
      "cell_type": "markdown",
      "metadata": {
        "id": "TqMwpaLw2XLu"
      },
      "source": [
        "1.   Installing the PAMI library"
      ]
    },
    {
      "cell_type": "code",
      "execution_count": 5,
      "metadata": {
        "colab": {
          "base_uri": "https://localhost:8080/"
        },
        "id": "EubusNOv2Zcv",
        "outputId": "63790bb1-524b-4e5c-af67-123cfba4ad63"
      },
      "outputs": [
        {
          "output_type": "stream",
          "name": "stdout",
          "text": [
            "Requirement already satisfied: pami in /usr/local/lib/python3.10/dist-packages (2023.12.19.1)\n",
            "Requirement already satisfied: psutil in /usr/local/lib/python3.10/dist-packages (from pami) (5.9.5)\n",
            "Requirement already satisfied: pandas in /usr/local/lib/python3.10/dist-packages (from pami) (1.5.3)\n",
            "Requirement already satisfied: plotly in /usr/local/lib/python3.10/dist-packages (from pami) (5.15.0)\n",
            "Requirement already satisfied: matplotlib in /usr/local/lib/python3.10/dist-packages (from pami) (3.7.1)\n",
            "Requirement already satisfied: resource in /usr/local/lib/python3.10/dist-packages (from pami) (0.2.1)\n",
            "Requirement already satisfied: validators in /usr/local/lib/python3.10/dist-packages (from pami) (0.22.0)\n",
            "Requirement already satisfied: urllib3 in /usr/local/lib/python3.10/dist-packages (from pami) (2.0.7)\n",
            "Requirement already satisfied: Pillow in /usr/local/lib/python3.10/dist-packages (from pami) (9.4.0)\n",
            "Requirement already satisfied: numpy in /usr/local/lib/python3.10/dist-packages (from pami) (1.23.5)\n",
            "Requirement already satisfied: sphinx-rtd-theme in /usr/local/lib/python3.10/dist-packages (from pami) (2.0.0)\n",
            "Requirement already satisfied: contourpy>=1.0.1 in /usr/local/lib/python3.10/dist-packages (from matplotlib->pami) (1.2.0)\n",
            "Requirement already satisfied: cycler>=0.10 in /usr/local/lib/python3.10/dist-packages (from matplotlib->pami) (0.12.1)\n",
            "Requirement already satisfied: fonttools>=4.22.0 in /usr/local/lib/python3.10/dist-packages (from matplotlib->pami) (4.46.0)\n",
            "Requirement already satisfied: kiwisolver>=1.0.1 in /usr/local/lib/python3.10/dist-packages (from matplotlib->pami) (1.4.5)\n",
            "Requirement already satisfied: packaging>=20.0 in /usr/local/lib/python3.10/dist-packages (from matplotlib->pami) (23.2)\n",
            "Requirement already satisfied: pyparsing>=2.3.1 in /usr/local/lib/python3.10/dist-packages (from matplotlib->pami) (3.1.1)\n",
            "Requirement already satisfied: python-dateutil>=2.7 in /usr/local/lib/python3.10/dist-packages (from matplotlib->pami) (2.8.2)\n",
            "Requirement already satisfied: pytz>=2020.1 in /usr/local/lib/python3.10/dist-packages (from pandas->pami) (2023.3.post1)\n",
            "Requirement already satisfied: tenacity>=6.2.0 in /usr/local/lib/python3.10/dist-packages (from plotly->pami) (8.2.3)\n",
            "Requirement already satisfied: JsonForm>=0.0.2 in /usr/local/lib/python3.10/dist-packages (from resource->pami) (0.0.2)\n",
            "Requirement already satisfied: JsonSir>=0.0.2 in /usr/local/lib/python3.10/dist-packages (from resource->pami) (0.0.2)\n",
            "Requirement already satisfied: python-easyconfig>=0.1.0 in /usr/local/lib/python3.10/dist-packages (from resource->pami) (0.1.7)\n",
            "Requirement already satisfied: sphinx<8,>=5 in /usr/local/lib/python3.10/dist-packages (from sphinx-rtd-theme->pami) (5.0.2)\n",
            "Requirement already satisfied: docutils<0.21 in /usr/local/lib/python3.10/dist-packages (from sphinx-rtd-theme->pami) (0.18.1)\n",
            "Requirement already satisfied: sphinxcontrib-jquery<5,>=4 in /usr/local/lib/python3.10/dist-packages (from sphinx-rtd-theme->pami) (4.1)\n",
            "Requirement already satisfied: jsonschema in /usr/local/lib/python3.10/dist-packages (from JsonForm>=0.0.2->resource->pami) (4.19.2)\n",
            "Requirement already satisfied: six>=1.5 in /usr/local/lib/python3.10/dist-packages (from python-dateutil>=2.7->matplotlib->pami) (1.16.0)\n",
            "Requirement already satisfied: PyYAML in /usr/local/lib/python3.10/dist-packages (from python-easyconfig>=0.1.0->resource->pami) (6.0.1)\n",
            "Requirement already satisfied: sphinxcontrib-applehelp in /usr/local/lib/python3.10/dist-packages (from sphinx<8,>=5->sphinx-rtd-theme->pami) (1.0.7)\n",
            "Requirement already satisfied: sphinxcontrib-devhelp in /usr/local/lib/python3.10/dist-packages (from sphinx<8,>=5->sphinx-rtd-theme->pami) (1.0.5)\n",
            "Requirement already satisfied: sphinxcontrib-jsmath in /usr/local/lib/python3.10/dist-packages (from sphinx<8,>=5->sphinx-rtd-theme->pami) (1.0.1)\n",
            "Requirement already satisfied: sphinxcontrib-htmlhelp>=2.0.0 in /usr/local/lib/python3.10/dist-packages (from sphinx<8,>=5->sphinx-rtd-theme->pami) (2.0.4)\n",
            "Requirement already satisfied: sphinxcontrib-serializinghtml>=1.1.5 in /usr/local/lib/python3.10/dist-packages (from sphinx<8,>=5->sphinx-rtd-theme->pami) (1.1.9)\n",
            "Requirement already satisfied: sphinxcontrib-qthelp in /usr/local/lib/python3.10/dist-packages (from sphinx<8,>=5->sphinx-rtd-theme->pami) (1.0.6)\n",
            "Requirement already satisfied: Jinja2>=2.3 in /usr/local/lib/python3.10/dist-packages (from sphinx<8,>=5->sphinx-rtd-theme->pami) (3.1.2)\n",
            "Requirement already satisfied: Pygments>=2.0 in /usr/local/lib/python3.10/dist-packages (from sphinx<8,>=5->sphinx-rtd-theme->pami) (2.16.1)\n",
            "Requirement already satisfied: snowballstemmer>=1.1 in /usr/local/lib/python3.10/dist-packages (from sphinx<8,>=5->sphinx-rtd-theme->pami) (2.2.0)\n",
            "Requirement already satisfied: babel>=1.3 in /usr/local/lib/python3.10/dist-packages (from sphinx<8,>=5->sphinx-rtd-theme->pami) (2.14.0)\n",
            "Requirement already satisfied: alabaster<0.8,>=0.7 in /usr/local/lib/python3.10/dist-packages (from sphinx<8,>=5->sphinx-rtd-theme->pami) (0.7.13)\n",
            "Requirement already satisfied: imagesize in /usr/local/lib/python3.10/dist-packages (from sphinx<8,>=5->sphinx-rtd-theme->pami) (1.4.1)\n",
            "Requirement already satisfied: requests>=2.5.0 in /usr/local/lib/python3.10/dist-packages (from sphinx<8,>=5->sphinx-rtd-theme->pami) (2.31.0)\n",
            "Requirement already satisfied: MarkupSafe>=2.0 in /usr/local/lib/python3.10/dist-packages (from Jinja2>=2.3->sphinx<8,>=5->sphinx-rtd-theme->pami) (2.1.3)\n",
            "Requirement already satisfied: charset-normalizer<4,>=2 in /usr/local/lib/python3.10/dist-packages (from requests>=2.5.0->sphinx<8,>=5->sphinx-rtd-theme->pami) (3.3.2)\n",
            "Requirement already satisfied: idna<4,>=2.5 in /usr/local/lib/python3.10/dist-packages (from requests>=2.5.0->sphinx<8,>=5->sphinx-rtd-theme->pami) (3.6)\n",
            "Requirement already satisfied: certifi>=2017.4.17 in /usr/local/lib/python3.10/dist-packages (from requests>=2.5.0->sphinx<8,>=5->sphinx-rtd-theme->pami) (2023.11.17)\n",
            "Requirement already satisfied: attrs>=22.2.0 in /usr/local/lib/python3.10/dist-packages (from jsonschema->JsonForm>=0.0.2->resource->pami) (23.1.0)\n",
            "Requirement already satisfied: jsonschema-specifications>=2023.03.6 in /usr/local/lib/python3.10/dist-packages (from jsonschema->JsonForm>=0.0.2->resource->pami) (2023.11.2)\n",
            "Requirement already satisfied: referencing>=0.28.4 in /usr/local/lib/python3.10/dist-packages (from jsonschema->JsonForm>=0.0.2->resource->pami) (0.32.0)\n",
            "Requirement already satisfied: rpds-py>=0.7.1 in /usr/local/lib/python3.10/dist-packages (from jsonschema->JsonForm>=0.0.2->resource->pami) (0.13.2)\n"
          ]
        }
      ],
      "source": [
        "!pip install -U pami #install the pami repository"
      ]
    },
    {
      "cell_type": "markdown",
      "metadata": {
        "id": "rYfvWHRN2oBs"
      },
      "source": [
        "2.   Downloading a sample dataset"
      ]
    },
    {
      "cell_type": "code",
      "execution_count": 6,
      "metadata": {
        "id": "t1-ej6SX2x8q"
      },
      "outputs": [],
      "source": [
        "inputFile = 'uncertain_Temporal_T10I4D200K.csv' #download a sample uncertain temporal database"
      ]
    },
    {
      "cell_type": "markdown",
      "metadata": {
        "id": "USUJbpXu3Gkw"
      },
      "source": [
        "3.   Printing few lines of a dataset to know its format."
      ]
    },
    {
      "cell_type": "code",
      "execution_count": 7,
      "metadata": {
        "colab": {
          "base_uri": "https://localhost:8080/"
        },
        "id": "Qcwg4qNE3MQc",
        "outputId": "475cf970-d13b-4f57-afbc-eec4920af3f9"
      },
      "outputs": [
        {
          "output_type": "stream",
          "name": "stdout",
          "text": [
            "1\t25\t52\t164\t240\t274\t328\t368\t448\t538\t561\t630\t687\t730\t775\t825\t834:0.688\t0.758\t0.612\t0.44\t0.249\t0.862\t0.523\t0.472\t0.334\t0.093\t0.808\t0.73\t0.04\t0.385\t0.229\t0.151 \n",
            "2\t39\t120\t124\t205\t401\t581\t704\t814\t825\t834:0.524\t0.817\t0.512\t0.652\t0.872\t0.713\t0.834\t0.756\t0.816\t0.49 \n"
          ]
        }
      ],
      "source": [
        "!head -2 uncertain_Temporal_T10I4D200K.csv"
      ]
    },
    {
      "cell_type": "markdown",
      "metadata": {
        "id": "oQQdz3qn3Qwz"
      },
      "source": [
        "format: every row contains items seperated by a seperator.\n",
        "\n",
        "Example:\n",
        "\n",
        "item1 item2 item3 item4\n",
        "\n",
        "item1 item4 item6\n",
        "***"
      ]
    },
    {
      "cell_type": "markdown",
      "metadata": {
        "id": "62Vkqg-C3WVZ"
      },
      "source": [
        "## Part 1: Finding Uncertain Periodic Frequent patterns using UPFPGrowthPlus"
      ]
    },
    {
      "cell_type": "markdown",
      "metadata": {
        "id": "gaxxPgXv3ecW"
      },
      "source": [
        "### Step 1: Import the libraries and specify the input parameters"
      ]
    },
    {
      "cell_type": "code",
      "execution_count": 8,
      "metadata": {
        "id": "RP9ynbti4L48"
      },
      "outputs": [],
      "source": [
        "minimumSupportCount = 300  #minSup is specified in count. However, the users can also specify minSup between 0 and 1.\n",
        "maximumPeriodCount = 5000  #maximumPeriodCount is specified in count. However, the users can also specify maximumPeriodCount between 0 and 1."
      ]
    },
    {
      "cell_type": "markdown",
      "metadata": {
        "id": "-Yr0r7zw4Q85"
      },
      "source": [
        "### Step 2: Mining Uncertain Periodic Frequent patterns using UPFPGrowthPlus"
      ]
    },
    {
      "cell_type": "code",
      "execution_count": 9,
      "metadata": {
        "colab": {
          "base_uri": "https://localhost:8080/"
        },
        "id": "BZzrC2Pl4XGJ",
        "outputId": "74e43dab-cc7a-4e1f-e299-fad7cb60bd5c"
      },
      "outputs": [
        {
          "output_type": "stream",
          "name": "stdout",
          "text": [
            "Periodic Frequent patterns were generated successfully using UPFP-Growth++ algorithm\n",
            "Total No of patterns: 758\n",
            "Runtime: 295.4466288089752\n",
            "Memory (RSS): 5414215680\n",
            "Memory (USS): 5393289216\n"
          ]
        }
      ],
      "source": [
        "from PAMI.uncertainPeriodicFrequentPattern.basic import UPFPGrowthPlus as alg #import the algorithm\n",
        "\n",
        "obj = alg.UPFPGrowthPlus(iFile=inputFile, minSup=minimumSupportCount, maxPer=maximumPeriodCount, sep='\\t') #initialize\n",
        "obj.startMine()            #start the mining process\n",
        "\n",
        "obj.save('uncertainPeriodicFrequentPatternsAtMinSupCount300.txt') #save the patterns\n",
        "\n",
        "\n",
        "frequentPatternsDF= obj.getPatternsAsDataFrame() #get the generated frequent patterns as a dataframe\n",
        "print('Total No of patterns: ' + str(len(frequentPatternsDF))) #print the total number of patterns\n",
        "print('Runtime: ' + str(obj.getRuntime())) #measure the runtime\n",
        "\n",
        "print('Memory (RSS): ' + str(obj.getMemoryRSS()))\n",
        "print('Memory (USS): ' + str(obj.getMemoryUSS()))"
      ]
    },
    {
      "cell_type": "markdown",
      "metadata": {
        "id": "3M8FtfKU4bhu"
      },
      "source": [
        "### Step 3: Investigating the generated patterns\n",
        "\n",
        "Open the pattern's file and investigate the generated patterns. If the generated patterns were interesting, use them; otherwise, redo the Steps 1 and 2 with a different _minSup_ value."
      ]
    },
    {
      "cell_type": "code",
      "execution_count": 10,
      "metadata": {
        "id": "b7IvA0IW4hBe",
        "colab": {
          "base_uri": "https://localhost:8080/"
        },
        "outputId": "5922d97f-5da8-4d00-8ca7-bceb164ed65a"
      },
      "outputs": [
        {
          "output_type": "stream",
          "name": "stdout",
          "text": [
            "940 :[301.78, 2419] \n",
            "714 :[303.1, 2000] \n",
            "264 :[304.08, 1821] \n",
            "88 :[304.09, 1548] \n",
            "981 :[305.01, 1981] \n",
            "218 :[306.15, 1561] \n",
            "67 :[308.64, 2622] \n",
            "64 :[309.28, 2233] \n",
            "301 :[309.43, 2326] \n",
            "696 :[310.6, 2261] \n"
          ]
        }
      ],
      "source": [
        "!head 'uncertainPeriodicFrequentPatternsAtMinSupCount300.txt'"
      ]
    },
    {
      "cell_type": "markdown",
      "metadata": {
        "id": "j4CpTPXw4k9I"
      },
      "source": [
        "The storage format is: _uncertainPeriodicfrequentPattern:support_\n",
        "***"
      ]
    },
    {
      "cell_type": "markdown",
      "metadata": {
        "id": "kC71sBV74qY0"
      },
      "source": [
        "## Part 2: Evaluating the UPFPGrowth algorithm on a dataset at different minSup values"
      ]
    },
    {
      "cell_type": "markdown",
      "metadata": {
        "id": "EobpZCdu6G0Z"
      },
      "source": [
        "### Step 1: Import the libraries and specify the input parameters"
      ]
    },
    {
      "cell_type": "code",
      "execution_count": 11,
      "metadata": {
        "id": "W96B78JT6KT2"
      },
      "outputs": [],
      "source": [
        "#Import the libraries\n",
        "from PAMI.uncertainPeriodicFrequentPattern.basic import UPFPGrowthPlus as alg #import the algorithm\n",
        "import pandas as pd\n",
        "\n",
        "#Specify the input parameters\n",
        "inputFile = 'uncertain_Temporal_T10I4D200K.csv'\n",
        "seperator='\\t'\n",
        "minimumSupportCountList = [500, 1000, 1500, 2000, 2500]\n",
        "maxPer = 5000\n",
        "#minimumSupport can also specified between 0 to 1. E.g., minSupList = [0.005, 0.006, 0.007, 0.008, 0.009]"
      ]
    },
    {
      "cell_type": "markdown",
      "metadata": {
        "id": "gS09HRlY6PPR"
      },
      "source": [
        "### Step 2: Create a data frame to store the results of UPFPGrowth"
      ]
    },
    {
      "cell_type": "code",
      "execution_count": 12,
      "metadata": {
        "id": "0tbQu3re6VGI"
      },
      "outputs": [],
      "source": [
        "result = pd.DataFrame(columns=['algorithm', 'minSup', 'patterns', 'runtime', 'memory'])\n",
        "#initialize a data frame to store the results of UPFPGrowth algorithm"
      ]
    },
    {
      "cell_type": "markdown",
      "metadata": {
        "id": "kn2TtrbW6awD"
      },
      "source": [
        "### Step 3: Execute the algorithm at different minSup values"
      ]
    },
    {
      "cell_type": "code",
      "execution_count": 13,
      "metadata": {
        "id": "cZNXmKqp6ea1",
        "colab": {
          "base_uri": "https://localhost:8080/"
        },
        "outputId": "b3848ac1-bf0c-4a7d-a9f3-d8ed5ff9d057"
      },
      "outputs": [
        {
          "output_type": "stream",
          "name": "stdout",
          "text": [
            "Periodic Frequent patterns were generated successfully using UPFP-Growth++ algorithm\n",
            "Periodic Frequent patterns were generated successfully using UPFP-Growth++ algorithm\n",
            "Periodic Frequent patterns were generated successfully using UPFP-Growth++ algorithm\n",
            "Periodic Frequent patterns were generated successfully using UPFP-Growth++ algorithm\n",
            "Periodic Frequent patterns were generated successfully using UPFP-Growth++ algorithm\n"
          ]
        }
      ],
      "source": [
        "for minSupCount in minimumSupportCountList:\n",
        "    obj = alg.UPFPGrowthPlus(inputFile, minSup=minSupCount, maxPer=maxPer, sep=seperator)\n",
        "    obj.startMine()\n",
        "    #store the results in the data frame\n",
        "    result.loc[result.shape[0]] = ['UPFPGrowthPlus', minSupCount, len(obj.getPatterns()), obj.getRuntime(), obj.getMemoryRSS()]"
      ]
    },
    {
      "cell_type": "markdown",
      "metadata": {
        "id": "NCQLc9pn7BYG"
      },
      "source": [
        "### Step 4: Print the Result"
      ]
    },
    {
      "cell_type": "code",
      "execution_count": 14,
      "metadata": {
        "id": "kpkdWbyQ6j6M",
        "colab": {
          "base_uri": "https://localhost:8080/"
        },
        "outputId": "bb892016-c78a-4160-abe1-ec3c732d1476"
      },
      "outputs": [
        {
          "output_type": "stream",
          "name": "stdout",
          "text": [
            "        algorithm  minSup  patterns    runtime      memory\n",
            "0  UPFPGrowthPlus     500       532  97.048988  5397004288\n",
            "1  UPFPGrowthPlus    1000       337  63.079154  5326221312\n",
            "2  UPFPGrowthPlus    1500       205  39.949615  5242068992\n",
            "3  UPFPGrowthPlus    2000       134  38.369560  5183385600\n",
            "4  UPFPGrowthPlus    2500        87  33.572152  5139349504\n"
          ]
        }
      ],
      "source": [
        "print(result)"
      ]
    },
    {
      "cell_type": "markdown",
      "metadata": {
        "id": "S-prY3W27U4Z"
      },
      "source": [
        "### Step 5: Visualizing the results"
      ]
    },
    {
      "cell_type": "code",
      "execution_count": 15,
      "metadata": {
        "id": "zVEtHn5j7aYE",
        "colab": {
          "base_uri": "https://localhost:8080/",
          "height": 1000
        },
        "outputId": "920a18f9-824a-4bd4-d073-091f71b4b54b"
      },
      "outputs": [
        {
          "output_type": "execute_result",
          "data": {
            "text/plain": [
              "<Axes: xlabel='minSup'>"
            ]
          },
          "metadata": {},
          "execution_count": 15
        },
        {
          "output_type": "display_data",
          "data": {
            "text/plain": [
              "<Figure size 640x480 with 1 Axes>"
            ],
            "image/png": "[encoded data removed]"
          },
          "metadata": {}
        },
        {
          "output_type": "display_data",
          "data": {
            "text/plain": [
              "<Figure size 640x480 with 1 Axes>"
            ],
            "image/png": "[encoded data removed]"
          },
          "metadata": {}
        },
        {
          "output_type": "display_data",
          "data": {
            "text/plain": [
              "<Figure size 640x480 with 1 Axes>"
            ],
            "image/png": "[encoded data removed]"
          },
          "metadata": {}
        }
      ],
      "source": [
        "result.plot(x='minSup', y='patterns', kind='line')\n",
        "result.plot(x='minSup', y='runtime', kind='line')\n",
        "result.plot(x='minSup', y='memory', kind='line')\n",
        "\n",
        "#Graphs can be improved further by using additional packages, such as plotly and matplotlib"
      ]
    }
  ],
  "metadata": {
    "colab": {
      "provenance": [],
      "include_colab_link": true
    },
    "kernelspec": {
      "display_name": "Python 3",
      "name": "python3"
    },
    "language_info": {
      "name": "python"
    }
  },
  "nbformat": 4,
  "nbformat_minor": 0
}