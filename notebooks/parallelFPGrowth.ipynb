{
  "cells": [
    {
      "cell_type": "markdown",
      "metadata": {
        "colab_type": "text",
        "id": "view-in-github"
      },
      "source": [
        "<a href=\"https://colab.research.google.com/github/UdayLab/PAMI/blob/main/notebooks/parallelFPGrowth.ipynb\" target=\"_parent\"><img src=\"https://colab.research.google.com/assets/colab-badge.svg\" alt=\"Open In Colab\"/></a>"
      ]
    },
    {
      "cell_type": "markdown",
      "metadata": {
        "id": "Aj6UkFAj3sHh"
      },
      "source": [
        "# Finding frequent patterns in big transactional databases using Parallel FP-growth"
      ]
    },
    {
      "cell_type": "markdown",
      "metadata": {
        "id": "X-YPyS6G4AVR"
      },
      "source": [
        "This tutorial has two parts. In the first part, we describe the basic approach to find frequent patterns in a transactional database using the parallel FP-growth algorithm. In the final part, we describe an advanced approach, where we evaluate the algorithm on a dataset at different *minimum support* threshold values using 1 and 2 cores."
      ]
    },
    {
      "cell_type": "markdown",
      "metadata": {
        "id": "XkW0ZZ276JtD"
      },
      "source": [
        "***"
      ]
    },
    {
      "cell_type": "markdown",
      "metadata": {
        "id": "H8uDhbi55Use"
      },
      "source": [
        "## Prerequisites:"
      ]
    },
    {
      "cell_type": "markdown",
      "metadata": {
        "id": "z-avjjpTZzbf"
      },
      "source": [
        "1. Installing the PAMI library"
      ]
    },
    {
      "cell_type": "code",
      "execution_count": 1,
      "metadata": {
        "colab": {
          "base_uri": "https://localhost:8080/"
        },
        "id": "2PdVic4l3-DQ",
        "outputId": "c662d479-ac39-451f-8b97-f6b6e74c1363"
      },
      "outputs": [
        {
          "name": "stdout",
          "output_type": "stream",
          "text": [
            "Collecting pami[spark]\n",
            "  Downloading pami-2023.7.28.3-py3-none-any.whl (796 kB)\n",
            "\u001b[2K     \u001b[90m━━━━━━━━━━━━━━━━━━━━━━━━━━━━━━━━━━━━━━━\u001b[0m \u001b[32m796.5/796.5 kB\u001b[0m \u001b[31m5.4 MB/s\u001b[0m eta \u001b[36m0:00:00\u001b[0m\n",
            "\u001b[?25hRequirement already satisfied: psutil in /usr/local/lib/python3.10/dist-packages (from pami[spark]) (5.9.5)\n",
            "Requirement already satisfied: pandas in /usr/local/lib/python3.10/dist-packages (from pami[spark]) (1.5.3)\n",
            "Requirement already satisfied: plotly in /usr/local/lib/python3.10/dist-packages (from pami[spark]) (5.13.1)\n",
            "Requirement already satisfied: matplotlib in /usr/local/lib/python3.10/dist-packages (from pami[spark]) (3.7.1)\n",
            "Collecting resource (from pami[spark])\n",
            "  Downloading Resource-0.2.1-py2.py3-none-any.whl (25 kB)\n",
            "Collecting validators (from pami[spark])\n",
            "  Downloading validators-0.20.0.tar.gz (30 kB)\n",
            "  Preparing metadata (setup.py) ... \u001b[?25l\u001b[?25hdone\n",
            "Requirement already satisfied: urllib3 in /usr/local/lib/python3.10/dist-packages (from pami[spark]) (1.26.16)\n",
            "Requirement already satisfied: Pillow in /usr/local/lib/python3.10/dist-packages (from pami[spark]) (9.4.0)\n",
            "Requirement already satisfied: numpy in /usr/local/lib/python3.10/dist-packages (from pami[spark]) (1.22.4)\n",
            "Collecting pyspark (from pami[spark])\n",
            "  Downloading pyspark-3.4.1.tar.gz (310.8 MB)\n",
            "\u001b[2K     \u001b[90m━━━━━━━━━━━━━━━━━━━━━━━━━━━━━━━━━━━━━━━\u001b[0m \u001b[32m310.8/310.8 MB\u001b[0m \u001b[31m2.8 MB/s\u001b[0m eta \u001b[36m0:00:00\u001b[0m\n",
            "\u001b[?25h  Preparing metadata (setup.py) ... \u001b[?25l\u001b[?25hdone\n",
            "Requirement already satisfied: contourpy>=1.0.1 in /usr/local/lib/python3.10/dist-packages (from matplotlib->pami[spark]) (1.1.0)\n",
            "Requirement already satisfied: cycler>=0.10 in /usr/local/lib/python3.10/dist-packages (from matplotlib->pami[spark]) (0.11.0)\n",
            "Requirement already satisfied: fonttools>=4.22.0 in /usr/local/lib/python3.10/dist-packages (from matplotlib->pami[spark]) (4.41.1)\n",
            "Requirement already satisfied: kiwisolver>=1.0.1 in /usr/local/lib/python3.10/dist-packages (from matplotlib->pami[spark]) (1.4.4)\n",
            "Requirement already satisfied: packaging>=20.0 in /usr/local/lib/python3.10/dist-packages (from matplotlib->pami[spark]) (23.1)\n",
            "Requirement already satisfied: pyparsing>=2.3.1 in /usr/local/lib/python3.10/dist-packages (from matplotlib->pami[spark]) (3.1.0)\n",
            "Requirement already satisfied: python-dateutil>=2.7 in /usr/local/lib/python3.10/dist-packages (from matplotlib->pami[spark]) (2.8.2)\n",
            "Requirement already satisfied: pytz>=2020.1 in /usr/local/lib/python3.10/dist-packages (from pandas->pami[spark]) (2022.7.1)\n",
            "Requirement already satisfied: tenacity>=6.2.0 in /usr/local/lib/python3.10/dist-packages (from plotly->pami[spark]) (8.2.2)\n",
            "Requirement already satisfied: py4j==0.10.9.7 in /usr/local/lib/python3.10/dist-packages (from pyspark->pami[spark]) (0.10.9.7)\n",
            "Collecting JsonForm>=0.0.2 (from resource->pami[spark])\n",
            "  Downloading JsonForm-0.0.2.tar.gz (2.4 kB)\n",
            "  Preparing metadata (setup.py) ... \u001b[?25l\u001b[?25hdone\n",
            "Collecting JsonSir>=0.0.2 (from resource->pami[spark])\n",
            "  Downloading JsonSir-0.0.2.tar.gz (2.2 kB)\n",
            "  Preparing metadata (setup.py) ... \u001b[?25l\u001b[?25hdone\n",
            "Collecting python-easyconfig>=0.1.0 (from resource->pami[spark])\n",
            "  Downloading Python_EasyConfig-0.1.7-py2.py3-none-any.whl (5.4 kB)\n",
            "Requirement already satisfied: decorator>=3.4.0 in /usr/local/lib/python3.10/dist-packages (from validators->pami[spark]) (4.4.2)\n",
            "Requirement already satisfied: jsonschema in /usr/local/lib/python3.10/dist-packages (from JsonForm>=0.0.2->resource->pami[spark]) (4.3.3)\n",
            "Requirement already satisfied: six>=1.5 in /usr/local/lib/python3.10/dist-packages (from python-dateutil>=2.7->matplotlib->pami[spark]) (1.16.0)\n",
            "Requirement already satisfied: PyYAML in /usr/local/lib/python3.10/dist-packages (from python-easyconfig>=0.1.0->resource->pami[spark]) (6.0.1)\n",
            "Requirement already satisfied: attrs>=17.4.0 in /usr/local/lib/python3.10/dist-packages (from jsonschema->JsonForm>=0.0.2->resource->pami[spark]) (23.1.0)\n",
            "Requirement already satisfied: pyrsistent!=0.17.0,!=0.17.1,!=0.17.2,>=0.14.0 in /usr/local/lib/python3.10/dist-packages (from jsonschema->JsonForm>=0.0.2->resource->pami[spark]) (0.19.3)\n",
            "Building wheels for collected packages: pyspark, validators, JsonForm, JsonSir\n",
            "  Building wheel for pyspark (setup.py) ... \u001b[?25l\u001b[?25hdone\n",
            "  Created wheel for pyspark: filename=pyspark-3.4.1-py2.py3-none-any.whl size=311285397 sha256=166519d76dedb339d45165ff765b1074751e7139bd52621cf3fa031d23035946\n",
            "  Stored in directory: /root/.cache/pip/wheels/0d/77/a3/ff2f74cc9ab41f8f594dabf0579c2a7c6de920d584206e0834\n",
            "  Building wheel for validators (setup.py) ... \u001b[?25l\u001b[?25hdone\n",
            "  Created wheel for validators: filename=validators-0.20.0-py3-none-any.whl size=19580 sha256=8b7e7d04b00e81fdfb24331b195b9901fecadce946df693ada4100ac40be3dc5\n",
            "  Stored in directory: /root/.cache/pip/wheels/f2/ed/dd/d3a556ad245ef9dc570c6bcd2f22886d17b0b408dd3bbb9ac3\n",
            "  Building wheel for JsonForm (setup.py) ... \u001b[?25l\u001b[?25hdone\n",
            "  Created wheel for JsonForm: filename=JsonForm-0.0.2-py3-none-any.whl size=3310 sha256=95fcdc32cc72bc867ae5fd0179be5ade889b775b96566989f57cd31e79f243bf\n",
            "  Stored in directory: /root/.cache/pip/wheels/b6/e5/87/11026246d3bd4ad67c0615682d2d6748bbd9a40ac0490882bd\n",
            "  Building wheel for JsonSir (setup.py) ... \u001b[?25l\u001b[?25hdone\n",
            "  Created wheel for JsonSir: filename=JsonSir-0.0.2-py3-none-any.whl size=4750 sha256=43f2913f7d5d9d74f80a4cf60faaf71d8de71c6a9740b4ebce0c3db79dc088f1\n",
            "  Stored in directory: /root/.cache/pip/wheels/1d/4c/d3/4d9757425983b43eb709be1043d82cd03fb863ce5f56f117e6\n",
            "Successfully built pyspark validators JsonForm JsonSir\n",
            "Installing collected packages: JsonSir, validators, python-easyconfig, pyspark, JsonForm, resource, pami\n",
            "Successfully installed JsonForm-0.0.2 JsonSir-0.0.2 pami-2023.7.28.3 pyspark-3.4.1 python-easyconfig-0.1.7 resource-0.2.1 validators-0.20.0\n"
          ]
        }
      ],
      "source": [
        "!pip install 'pami[spark]' #install the pami repository"
      ]
    },
    {
      "cell_type": "markdown",
      "metadata": {
        "id": "KZMafFx1Z7pn"
      },
      "source": [
        "2. Downloading a sample dataset"
      ]
    },
    {
      "cell_type": "code",
      "execution_count": 2,
      "metadata": {
        "colab": {
          "base_uri": "https://localhost:8080/"
        },
        "id": "SCtq3Erc5nEo",
        "outputId": "4a45cb52-67d6-4757-8633-0d76c279472c"
      },
      "outputs": [
        {
          "name": "stdout",
          "output_type": "stream",
          "text": [
            "--2023-07-28 06:24:42--  https://u-aizu.ac.jp/~udayrage/datasets/transactionalDatabases/Transactional_T10I4D100K.csv\n",
            "Resolving u-aizu.ac.jp (u-aizu.ac.jp)... 150.95.161.176, 150.31.244.160\n",
            "Connecting to u-aizu.ac.jp (u-aizu.ac.jp)|150.95.161.176|:443... connected.\n",
            "HTTP request sent, awaiting response... 200 OK\n",
            "Length: 4019277 (3.8M) [text/csv]\n",
            "Saving to: ‘Transactional_T10I4D100K.csv’\n",
            "\n",
            "Transactional_T10I4 100%[===================>]   3.83M   986KB/s    in 4.0s    \n",
            "\n",
            "2023-07-28 06:24:48 (986 KB/s) - ‘Transactional_T10I4D100K.csv’ saved [4019277/4019277]\n",
            "\n"
          ]
        }
      ],
      "source": [
        "!wget -nc https://u-aizu.ac.jp/~udayrage/datasets/transactionalDatabases/Transactional_T10I4D100K.csv #download a sample transactional database"
      ]
    },
    {
      "cell_type": "markdown",
      "metadata": {
        "id": "nXgP5F4eaBTW"
      },
      "source": [
        "3. Printing few lines of a dataset to know its format."
      ]
    },
    {
      "cell_type": "code",
      "execution_count": 3,
      "metadata": {
        "colab": {
          "base_uri": "https://localhost:8080/"
        },
        "id": "7cHiIW59aS2T",
        "outputId": "8630431b-179e-4a0e-ba7a-74c9cfbec3a8"
      },
      "outputs": [
        {
          "name": "stdout",
          "output_type": "stream",
          "text": [
            "25\t52\t164\t240\t274\t328\t368\t448\t538\t561\t630\t687\t730\t775\t825\t834\r\n",
            "39\t120\t124\t205\t401\t581\t704\t814\t825\t834\r\n"
          ]
        }
      ],
      "source": [
        "!head -2 Transactional_T10I4D100K.csv"
      ]
    },
    {
      "cell_type": "markdown",
      "metadata": {
        "id": "8HnTnR6MaebG"
      },
      "source": [
        "_format:_ every row contains items seperated by a seperator.\n",
        "\n",
        "__Example:__\n",
        "\n",
        "item1 item2 item3 item4\n",
        "\n",
        "item1 item4 item6"
      ]
    },
    {
      "cell_type": "markdown",
      "metadata": {
        "id": "uJ8Z0ey_6FhV"
      },
      "source": [
        "***"
      ]
    },
    {
      "cell_type": "markdown",
      "metadata": {
        "id": "pCnHao5L6PRR"
      },
      "source": [
        "## Part 1: Finding frequent patterns using parallel FP-growth"
      ]
    },
    {
      "cell_type": "markdown",
      "metadata": {
        "id": "XzsAMOgb6jjQ"
      },
      "source": [
        "### Step 1: Understanding the statistics of a database to choose an appropriate *minimum support* (*minSup*) value."
      ]
    },
    {
      "cell_type": "code",
      "execution_count": 4,
      "metadata": {
        "colab": {
          "base_uri": "https://localhost:8080/"
        },
        "id": "3isxz2qx54te",
        "outputId": "652133b4-f23c-4128-89f8-f9d055c2757d"
      },
      "outputs": [
        {
          "name": "stdout",
          "output_type": "stream",
          "text": [
            "Database size : 99935\n",
            "Total number of items : 870\n",
            "Database sparsity : 0.9883886940304302\n",
            "Minimum Transaction Size : 1\n",
            "Average Transaction Size : 10.101836193525791\n",
            "Maximum Transaction Size : 29\n",
            "Standard Deviation Transaction Size : 3.667097909135199\n",
            "Variance in Transaction Sizes : 13.447741640067324\n"
          ]
        }
      ],
      "source": [
        "#import the class file\n",
        "import PAMI.extras.dbStats.TransactionalDatabase as stats\n",
        "\n",
        "#specify the file name\n",
        "inputFile = 'Transactional_T10I4D100K.csv'\n",
        "\n",
        "#initialize the class\n",
        "obj=stats.TransactionalDatabase(inputFile,sep='\\t')\n",
        "\n",
        "#execute the class\n",
        "obj.run()\n",
        "\n",
        "#Printing each of the database statistics\n",
        "print(f'Database size : {obj.getDatabaseSize()}')\n",
        "print(f'Total number of items : {obj.getTotalNumberOfItems()}')\n",
        "print(f'Database sparsity : {obj.getSparsity()}')\n",
        "print(f'Minimum Transaction Size : {obj.getMinimumTransactionLength()}')\n",
        "print(f'Average Transaction Size : {obj.getAverageTransactionLength()}')\n",
        "print(f'Maximum Transaction Size : {obj.getMaximumTransactionLength()}')\n",
        "print(f'Standard Deviation Transaction Size : {obj.getStandardDeviationTransactionLength()}')\n",
        "print(f'Variance in Transaction Sizes : {obj.getVarianceTransactionLength()}')\n",
        "\n",
        "#saving the distribution of items' frequencies and transactional lengths\n",
        "itemFrequencies = obj.getSortedListOfItemFrequencies()\n",
        "transactionLength = obj.getTransanctionalLengthDistribution()\n",
        "obj.save(itemFrequencies, 'itemFrequency.csv')\n",
        "obj.save(transactionLength, 'transactionSize.csv')\n",
        "\n",
        "#Alternative apporach to derive the database statistics and plot the graphs\n",
        "# obj.printStats()\n",
        "# obj.plotGraphs()"
      ]
    },
    {
      "cell_type": "markdown",
      "metadata": {
        "id": "CnoHNwAC-kJQ"
      },
      "source": [
        "### Step 2: Draw the items' frequency graph and transaction length's distribution graphs for more information"
      ]
    },
    {
      "cell_type": "code",
      "execution_count": null,
      "metadata": {
        "colab": {
          "base_uri": "https://localhost:8080/",
          "height": 945
        },
        "id": "xwZmfh4H7XSR",
        "outputId": "e9738935-4692-4ce3-bf69-8781528f5e10"
      },
      "outputs": [
        {
          "data": {
            "image/png": "[encoded data removed]",
            "text/plain": [
              "<Figure size 640x480 with 1 Axes>"
            ]
          },
          "metadata": {},
          "output_type": "display_data"
        },
        {
          "data": {
            "image/png": "[encoded data removed]",
            "text/plain": [
              "<Figure size 640x480 with 1 Axes>"
            ]
          },
          "metadata": {},
          "output_type": "display_data"
        },
        {
          "data": {
            "text/plain": [
              "<PAMI.extras.graph.plotLineGraphFromDictionary.plotLineGraphFromDictionary at 0x7c27111a86d0>"
            ]
          },
          "execution_count": 6,
          "metadata": {},
          "output_type": "execute_result"
        }
      ],
      "source": [
        "import PAMI.extras.graph.plotLineGraphFromDictionary as plt\n",
        "\n",
        "itemFrequencies = obj.getFrequenciesInRange()\n",
        "transactionLength = obj.getTransanctionalLengthDistribution()\n",
        "plt.plotLineGraphFromDictionary(itemFrequencies, 100,0, 'Items\\' frequency graph', 'No of items', 'frequency')\n",
        "plt.plotLineGraphFromDictionary(transactionLength, 100,0, 'transaction distribution graph', 'transaction length', 'frequency')"
      ]
    },
    {
      "cell_type": "markdown",
      "metadata": {
        "id": "BtnhlIfLAEHR"
      },
      "source": [
        "### Step 3: Choosing an appropriate *minSup* value\n",
        "\n",
        "_Observations_\n",
        "\n",
        "  1. The input dataset is sparse as the sparsity value is 0.988 (=98.8%)\n",
        "  2. Many items have low frequencies as seen in the items' frequency graph\n",
        "  3. The dataset is not high dimensional as the inverted curve is around 10.\n",
        "\n",
        "  Based on the above observations, let us choose a _minSup_ value of 300 (in count). We can increase or decrease the _minSup_ based on the number of patterns being generated."
      ]
    },
    {
      "cell_type": "code",
      "execution_count": null,
      "metadata": {
        "id": "MHGkrW5e-zYR"
      },
      "outputs": [],
      "source": [
        "minSup=300 #minSup is specified in count. However, the users can also specify minSup between 0 and 1."
      ]
    },
    {
      "cell_type": "markdown",
      "metadata": {
        "id": "IJOBcmTm3zKO"
      },
      "source": [
        "### Step 4: Choosing the number of worker machines\n",
        "\n",
        "Let us choose the number of worker machines equal to 2"
      ]
    },
    {
      "cell_type": "code",
      "execution_count": null,
      "metadata": {
        "id": "LjnMgn3S3-bE"
      },
      "outputs": [],
      "source": [
        "noWorkerMachines=5"
      ]
    },
    {
      "cell_type": "markdown",
      "metadata": {
        "id": "PlLmo9ZXDJkX"
      },
      "source": [
        "### Step 5: Mining frequent patterns using parallel FP-growth"
      ]
    },
    {
      "cell_type": "code",
      "execution_count": null,
      "metadata": {
        "colab": {
          "base_uri": "https://localhost:8080/"
        },
        "id": "pLV84IYcDHe3",
        "outputId": "d293e690-f4b3-494f-c643-2f82b9bca8bb"
      },
      "outputs": [
        {
          "name": "stdout",
          "output_type": "stream",
          "text": [
            "Frequent patterns were generated successfully using Parallel FPGrowth algorithm\n",
            "Total No of patterns: 4540\n",
            "Runtime: 40.39675760269165\n",
            "Memory (RSS): 171253760\n",
            "Memory (USS): 123527168\n"
          ]
        }
      ],
      "source": [
        "from PAMI.frequentPattern.pyspark import parallelFPGrowth as alg #import the algorithm\n",
        "\n",
        "obj = alg.parallelFPGrowth(iFile=inputFile, minSup=minSup, numWorkers=noWorkerMachines, sep='\\t')    #initialize\n",
        "obj.startMine()            #start the mining process\n",
        "\n",
        "obj.save('frequentPatternsAtMinSupCount300.txt') #save the patterns\n",
        "\n",
        "\n",
        "frequentPatternsDF= obj.getPatternsAsDataFrame() #get the generated frequent patterns as a dataframe\n",
        "print('Total No of patterns: ' + str(len(frequentPatternsDF))) #print the total number of patterns\n",
        "print('Runtime: ' + str(obj.getRuntime())) #measure the runtime\n",
        "\n",
        "print('Memory (RSS): ' + str(obj.getMemoryRSS()))\n",
        "print('Memory (USS): ' + str(obj.getMemoryUSS()))"
      ]
    },
    {
      "cell_type": "markdown",
      "metadata": {
        "id": "wE3A15V3FHjO"
      },
      "source": [
        "### Step 6: Investigating the generated patterns\n",
        "\n",
        "Open the patterns' file and investigate the generated patterns. If the generated patterns were interesting, use them; otherwise, redo the Steps 3 and 4 with a different _minSup_ value."
      ]
    },
    {
      "cell_type": "code",
      "execution_count": null,
      "metadata": {
        "colab": {
          "base_uri": "https://localhost:8080/"
        },
        "id": "nZ6dfQshDc9E",
        "outputId": "6d943a06-1d60-49b9-fc3e-7d5713822056"
      },
      "outputs": [
        {
          "name": "stdout",
          "output_type": "stream",
          "text": [
            "368:7821 \n",
            "529:7053 \n",
            "829:6802 \n",
            "766:6259 \n",
            "722:5839 \n",
            "354:5830 \n",
            "684:5404 \n",
            "217:5369 \n",
            "494:5097 \n",
            "419:5051 \n"
          ]
        }
      ],
      "source": [
        "!head frequentPatternsAtMinSupCount300.txt"
      ]
    },
    {
      "cell_type": "markdown",
      "metadata": {
        "id": "OSrlE5hwGEnH"
      },
      "source": [
        "The storage format is: _frequentPattern:support_\n",
        "\n"
      ]
    },
    {
      "cell_type": "markdown",
      "metadata": {
        "id": "HcaEFLGCHBjP"
      },
      "source": [
        "***"
      ]
    },
    {
      "cell_type": "markdown",
      "metadata": {
        "id": "FUO1nBPoHXJN"
      },
      "source": [
        "## Part 2: Evaluating the FP-growth algorithm on a dataset at different minSup values and worker machines"
      ]
    },
    {
      "cell_type": "markdown",
      "metadata": {
        "id": "g90LiLg1Hzb-"
      },
      "source": [
        "### Step 1: Import the libraries and specify the input parameters"
      ]
    },
    {
      "cell_type": "code",
      "execution_count": 5,
      "metadata": {
        "id": "FfYBLxBPG5n_"
      },
      "outputs": [],
      "source": [
        "#Import the libraries\n",
        "from PAMI.frequentPattern.basic import FPGrowth  as alg #import the algorithm\n",
        "import pandas as pd\n",
        "\n",
        "#Specify the input parameters\n",
        "inputFile = 'Transactional_T10I4D100K.csv'\n",
        "seperator='\\t'\n",
        "minimumSupportCountList = [100, 150, 200, 250, 300]\n",
        "#minimumSupport can also specified between 0 to 1. E.g., minSupList = [0.005, 0.006, 0.007, 0.008, 0.009]\n",
        "\n",
        "numWorkers = [1,2, 3, 4, 5]"
      ]
    },
    {
      "cell_type": "markdown",
      "metadata": {
        "id": "2lvGcqTKJDee"
      },
      "source": [
        "### Step 2: Create a data frame to store the results of FP-growth"
      ]
    },
    {
      "cell_type": "code",
      "execution_count": 6,
      "metadata": {
        "id": "9Hl47i3ZICpp"
      },
      "outputs": [],
      "source": [
        "result = pd.DataFrame(columns=['algorithm', 'minSup', 'patterns', 'runtime', 'memory'])\n",
        "#initialize a data frame to store the results of FPGrowth algorithm"
      ]
    },
    {
      "cell_type": "markdown",
      "metadata": {
        "id": "Hah3RHNNJf0f"
      },
      "source": [
        "### Step 3: Execute the algorithm at different minSup values"
      ]
    },
    {
      "cell_type": "code",
      "execution_count": 8,
      "metadata": {
        "colab": {
          "base_uri": "https://localhost:8080/"
        },
        "id": "9ivJHoSEJlky",
        "outputId": "fc61994e-e4ab-4e00-c660-58be8475f66a"
      },
      "outputs": [
        {
          "name": "stdout",
          "output_type": "stream",
          "text": [
            "Frequent patterns were generated successfully using Parallel FPGrowth algorithm\n",
            "Frequent patterns were generated successfully using Parallel FPGrowth algorithm\n",
            "Frequent patterns were generated successfully using Parallel FPGrowth algorithm\n",
            "Frequent patterns were generated successfully using Parallel FPGrowth algorithm\n",
            "Frequent patterns were generated successfully using Parallel FPGrowth algorithm\n",
            "Frequent patterns were generated successfully using Parallel FPGrowth algorithm\n",
            "Frequent patterns were generated successfully using Parallel FPGrowth algorithm\n",
            "Frequent patterns were generated successfully using Parallel FPGrowth algorithm\n",
            "Frequent patterns were generated successfully using Parallel FPGrowth algorithm\n",
            "Frequent patterns were generated successfully using Parallel FPGrowth algorithm\n",
            "Frequent patterns were generated successfully using Parallel FPGrowth algorithm\n",
            "Frequent patterns were generated successfully using Parallel FPGrowth algorithm\n",
            "Frequent patterns were generated successfully using Parallel FPGrowth algorithm\n",
            "Frequent patterns were generated successfully using Parallel FPGrowth algorithm\n",
            "Frequent patterns were generated successfully using Parallel FPGrowth algorithm\n",
            "Frequent patterns were generated successfully using Parallel FPGrowth algorithm\n",
            "Frequent patterns were generated successfully using Parallel FPGrowth algorithm\n",
            "Frequent patterns were generated successfully using Parallel FPGrowth algorithm\n",
            "Frequent patterns were generated successfully using Parallel FPGrowth algorithm\n",
            "Frequent patterns were generated successfully using Parallel FPGrowth algorithm\n",
            "Frequent patterns were generated successfully using Parallel FPGrowth algorithm\n",
            "Frequent patterns were generated successfully using Parallel FPGrowth algorithm\n",
            "Frequent patterns were generated successfully using Parallel FPGrowth algorithm\n",
            "Frequent patterns were generated successfully using Parallel FPGrowth algorithm\n",
            "Frequent patterns were generated successfully using Parallel FPGrowth algorithm\n"
          ]
        }
      ],
      "source": [
        "from PAMI.frequentPattern.pyspark import parallelFPGrowth as alg\n",
        "\n",
        "for minSupCount in minimumSupportCountList:\n",
        "  for workers in numWorkers:\n",
        "    obj = alg.parallelFPGrowth(iFile=inputFile, minSup=minSupCount, numWorkers=workers, sep='\\t')    #initialize\n",
        "    obj.startMine()            #start the mining process\n",
        "    result.loc[result.shape[0]] = [workers, minSupCount, len(obj.getPatterns()),obj.getRuntime(), obj.getMemoryRSS()]\n",
        "    #obj.getMemoryRSS() is for future use when we can calculate the memory consumed by executors."
      ]
    },
    {
      "cell_type": "markdown",
      "metadata": {
        "id": "qs3jpnTBJSd6"
      },
      "source": [
        "### Step 4: Print the result"
      ]
    },
    {
      "cell_type": "code",
      "execution_count": 9,
      "metadata": {
        "colab": {
          "base_uri": "https://localhost:8080/"
        },
        "id": "MReBFwDFJ_3x",
        "outputId": "9eb06d23-b64c-479b-80ad-bba9cc907004"
      },
      "outputs": [
        {
          "name": "stdout",
          "output_type": "stream",
          "text": [
            "    algorithm  minSup  patterns     runtime       memory\n",
            "0         1.0   100.0   27517.0  200.431388  181813248.0\n",
            "1         2.0   100.0   27517.0   58.722626  182530048.0\n",
            "2         3.0   100.0   27517.0   67.208038  182751232.0\n",
            "3         4.0   100.0   27517.0   71.262009  182751232.0\n",
            "4         5.0   100.0   27517.0   75.050182  182751232.0\n",
            "5         1.0   150.0   19119.0  215.779375  182751232.0\n",
            "6         2.0   150.0   19119.0   51.575729  182751232.0\n",
            "7         3.0   150.0   19119.0   59.140548  182902784.0\n",
            "8         4.0   150.0   19119.0   61.538699  182902784.0\n",
            "9         5.0   150.0   19119.0   62.497664  182902784.0\n",
            "10        1.0   200.0   13252.0  188.679439  182902784.0\n",
            "11        2.0   200.0   13252.0   45.932186  182902784.0\n",
            "12        3.0   200.0   13252.0   53.030148  182906880.0\n",
            "13        4.0   200.0   13252.0   53.883941  182906880.0\n",
            "14        5.0   200.0   13252.0   58.521841  182906880.0\n",
            "15        1.0   250.0    7679.0  168.944770  182906880.0\n",
            "16        2.0   250.0    7679.0   43.842920  183087104.0\n",
            "17        3.0   250.0    7679.0   48.458584  183087104.0\n",
            "18        4.0   250.0    7679.0   47.911397  183087104.0\n",
            "19        5.0   250.0    7679.0   51.738908  183087104.0\n",
            "20        1.0   300.0    4540.0   37.332425  183087104.0\n",
            "21        2.0   300.0    4540.0   37.079418  183115776.0\n",
            "22        3.0   300.0    4540.0   43.378786  183119872.0\n",
            "23        4.0   300.0    4540.0   42.937845  183119872.0\n",
            "24        5.0   300.0    4540.0   48.017647  183119872.0\n"
          ]
        }
      ],
      "source": [
        "print(result)"
      ]
    },
    {
      "cell_type": "markdown",
      "metadata": {
        "id": "6ELjr0iPKDSY"
      },
      "source": [
        "### Step 5: Visualizing the results"
      ]
    },
    {
      "cell_type": "code",
      "execution_count": 16,
      "metadata": {
        "colab": {
          "base_uri": "https://localhost:8080/",
          "height": 1000
        },
        "id": "mGET50RTasLT",
        "outputId": "1eb2d5c4-bc04-480c-a51c-8cc628c917aa"
      },
      "outputs": [
        {
          "data": {
            "text/html": [
              "<html>\n",
              "<head><meta charset=\"utf-8\" /></head>\n",
              "<body>\n",
              "    <div>            <script src=\"https://cdnjs.cloudflare.com/ajax/libs/mathjax/2.7.5/MathJax.js?config=TeX-AMS-MML_SVG\"></script><script type=\"text/javascript\">if (window.MathJax && window.MathJax.Hub && window.MathJax.Hub.Config) {window.MathJax.Hub.Config({SVG: {font: \"STIX-Web\"}});}</script>                <script type=\"text/javascript\">window.PlotlyConfig = {MathJaxConfig: 'local'};</script>\n",
              "        <script src=\"https://cdn.plot.ly/plotly-2.18.2.min.js\"></script>                <div id=\"1d227cc9-de8f-4c9d-87eb-64984968e4b8\" class=\"plotly-graph-div\" style=\"height:525px; width:100%;\"></div>            <script type=\"text/javascript\">                                    window.PLOTLYENV=window.PLOTLYENV || {};                                    if (document.getElementById(\"1d227cc9-de8f-4c9d-87eb-64984968e4b8\")) {                    Plotly.newPlot(                        \"1d227cc9-de8f-4c9d-87eb-64984968e4b8\",                        [{\"hovertemplate\":\"algorithm=1.0<br>minSup=%{x}<br>patterns=%{y}<extra></extra>\",\"legendgroup\":\"1.0\",\"line\":{\"color\":\"#636efa\",\"dash\":\"solid\"},\"marker\":{\"symbol\":\"circle\"},\"mode\":\"lines\",\"name\":\"1.0\",\"orientation\":\"v\",\"showlegend\":true,\"x\":[100.0,150.0,200.0,250.0,300.0],\"xaxis\":\"x\",\"y\":[27517.0,19119.0,13252.0,7679.0,4540.0],\"yaxis\":\"y\",\"type\":\"scatter\"},{\"hovertemplate\":\"algorithm=2.0<br>minSup=%{x}<br>patterns=%{y}<extra></extra>\",\"legendgroup\":\"2.0\",\"line\":{\"color\":\"#EF553B\",\"dash\":\"solid\"},\"marker\":{\"symbol\":\"circle\"},\"mode\":\"lines\",\"name\":\"2.0\",\"orientation\":\"v\",\"showlegend\":true,\"x\":[100.0,150.0,200.0,250.0,300.0],\"xaxis\":\"x\",\"y\":[27517.0,19119.0,13252.0,7679.0,4540.0],\"yaxis\":\"y\",\"type\":\"scatter\"},{\"hovertemplate\":\"algorithm=3.0<br>minSup=%{x}<br>patterns=%{y}<extra></extra>\",\"legendgroup\":\"3.0\",\"line\":{\"color\":\"#00cc96\",\"dash\":\"solid\"},\"marker\":{\"symbol\":\"circle\"},\"mode\":\"lines\",\"name\":\"3.0\",\"orientation\":\"v\",\"showlegend\":true,\"x\":[100.0,150.0,200.0,250.0,300.0],\"xaxis\":\"x\",\"y\":[27517.0,19119.0,13252.0,7679.0,4540.0],\"yaxis\":\"y\",\"type\":\"scatter\"},{\"hovertemplate\":\"algorithm=4.0<br>minSup=%{x}<br>patterns=%{y}<extra></extra>\",\"legendgroup\":\"4.0\",\"line\":{\"color\":\"#ab63fa\",\"dash\":\"solid\"},\"marker\":{\"symbol\":\"circle\"},\"mode\":\"lines\",\"name\":\"4.0\",\"orientation\":\"v\",\"showlegend\":true,\"x\":[100.0,150.0,200.0,250.0,300.0],\"xaxis\":\"x\",\"y\":[27517.0,19119.0,13252.0,7679.0,4540.0],\"yaxis\":\"y\",\"type\":\"scatter\"},{\"hovertemplate\":\"algorithm=5.0<br>minSup=%{x}<br>patterns=%{y}<extra></extra>\",\"legendgroup\":\"5.0\",\"line\":{\"color\":\"#FFA15A\",\"dash\":\"solid\"},\"marker\":{\"symbol\":\"circle\"},\"mode\":\"lines\",\"name\":\"5.0\",\"orientation\":\"v\",\"showlegend\":true,\"x\":[100.0,150.0,200.0,250.0,300.0],\"xaxis\":\"x\",\"y\":[27517.0,19119.0,13252.0,7679.0,4540.0],\"yaxis\":\"y\",\"type\":\"scatter\"}],                        {\"template\":{\"data\":{\"histogram2dcontour\":[{\"type\":\"histogram2dcontour\",\"colorbar\":{\"outlinewidth\":0,\"ticks\":\"\"},\"colorscale\":[[0.0,\"#0d0887\"],[0.1111111111111111,\"#46039f\"],[0.2222222222222222,\"#7201a8\"],[0.3333333333333333,\"#9c179e\"],[0.4444444444444444,\"#bd3786\"],[0.5555555555555556,\"#d8576b\"],[0.6666666666666666,\"#ed7953\"],[0.7777777777777778,\"#fb9f3a\"],[0.8888888888888888,\"#fdca26\"],[1.0,\"#f0f921\"]]}],\"choropleth\":[{\"type\":\"choropleth\",\"colorbar\":{\"outlinewidth\":0,\"ticks\":\"\"}}],\"histogram2d\":[{\"type\":\"histogram2d\",\"colorbar\":{\"outlinewidth\":0,\"ticks\":\"\"},\"colorscale\":[[0.0,\"#0d0887\"],[0.1111111111111111,\"#46039f\"],[0.2222222222222222,\"#7201a8\"],[0.3333333333333333,\"#9c179e\"],[0.4444444444444444,\"#bd3786\"],[0.5555555555555556,\"#d8576b\"],[0.6666666666666666,\"#ed7953\"],[0.7777777777777778,\"#fb9f3a\"],[0.8888888888888888,\"#fdca26\"],[1.0,\"#f0f921\"]]}],\"heatmap\":[{\"type\":\"heatmap\",\"colorbar\":{\"outlinewidth\":0,\"ticks\":\"\"},\"colorscale\":[[0.0,\"#0d0887\"],[0.1111111111111111,\"#46039f\"],[0.2222222222222222,\"#7201a8\"],[0.3333333333333333,\"#9c179e\"],[0.4444444444444444,\"#bd3786\"],[0.5555555555555556,\"#d8576b\"],[0.6666666666666666,\"#ed7953\"],[0.7777777777777778,\"#fb9f3a\"],[0.8888888888888888,\"#fdca26\"],[1.0,\"#f0f921\"]]}],\"heatmapgl\":[{\"type\":\"heatmapgl\",\"colorbar\":{\"outlinewidth\":0,\"ticks\":\"\"},\"colorscale\":[[0.0,\"#0d0887\"],[0.1111111111111111,\"#46039f\"],[0.2222222222222222,\"#7201a8\"],[0.3333333333333333,\"#9c179e\"],[0.4444444444444444,\"#bd3786\"],[0.5555555555555556,\"#d8576b\"],[0.6666666666666666,\"#ed7953\"],[0.7777777777777778,\"#fb9f3a\"],[0.8888888888888888,\"#fdca26\"],[1.0,\"#f0f921\"]]}],\"contourcarpet\":[{\"type\":\"contourcarpet\",\"colorbar\":{\"outlinewidth\":0,\"ticks\":\"\"}}],\"contour\":[{\"type\":\"contour\",\"colorbar\":{\"outlinewidth\":0,\"ticks\":\"\"},\"colorscale\":[[0.0,\"#0d0887\"],[0.1111111111111111,\"#46039f\"],[0.2222222222222222,\"#7201a8\"],[0.3333333333333333,\"#9c179e\"],[0.4444444444444444,\"#bd3786\"],[0.5555555555555556,\"#d8576b\"],[0.6666666666666666,\"#ed7953\"],[0.7777777777777778,\"#fb9f3a\"],[0.8888888888888888,\"#fdca26\"],[1.0,\"#f0f921\"]]}],\"surface\":[{\"type\":\"surface\",\"colorbar\":{\"outlinewidth\":0,\"ticks\":\"\"},\"colorscale\":[[0.0,\"#0d0887\"],[0.1111111111111111,\"#46039f\"],[0.2222222222222222,\"#7201a8\"],[0.3333333333333333,\"#9c179e\"],[0.4444444444444444,\"#bd3786\"],[0.5555555555555556,\"#d8576b\"],[0.6666666666666666,\"#ed7953\"],[0.7777777777777778,\"#fb9f3a\"],[0.8888888888888888,\"#fdca26\"],[1.0,\"#f0f921\"]]}],\"mesh3d\":[{\"type\":\"mesh3d\",\"colorbar\":{\"outlinewidth\":0,\"ticks\":\"\"}}],\"scatter\":[{\"fillpattern\":{\"fillmode\":\"overlay\",\"size\":10,\"solidity\":0.2},\"type\":\"scatter\"}],\"parcoords\":[{\"type\":\"parcoords\",\"line\":{\"colorbar\":{\"outlinewidth\":0,\"ticks\":\"\"}}}],\"scatterpolargl\":[{\"type\":\"scatterpolargl\",\"marker\":{\"colorbar\":{\"outlinewidth\":0,\"ticks\":\"\"}}}],\"bar\":[{\"error_x\":{\"color\":\"#2a3f5f\"},\"error_y\":{\"color\":\"#2a3f5f\"},\"marker\":{\"line\":{\"color\":\"#E5ECF6\",\"width\":0.5},\"pattern\":{\"fillmode\":\"overlay\",\"size\":10,\"solidity\":0.2}},\"type\":\"bar\"}],\"scattergeo\":[{\"type\":\"scattergeo\",\"marker\":{\"colorbar\":{\"outlinewidth\":0,\"ticks\":\"\"}}}],\"scatterpolar\":[{\"type\":\"scatterpolar\",\"marker\":{\"colorbar\":{\"outlinewidth\":0,\"ticks\":\"\"}}}],\"histogram\":[{\"marker\":{\"pattern\":{\"fillmode\":\"overlay\",\"size\":10,\"solidity\":0.2}},\"type\":\"histogram\"}],\"scattergl\":[{\"type\":\"scattergl\",\"marker\":{\"colorbar\":{\"outlinewidth\":0,\"ticks\":\"\"}}}],\"scatter3d\":[{\"type\":\"scatter3d\",\"line\":{\"colorbar\":{\"outlinewidth\":0,\"ticks\":\"\"}},\"marker\":{\"colorbar\":{\"outlinewidth\":0,\"ticks\":\"\"}}}],\"scattermapbox\":[{\"type\":\"scattermapbox\",\"marker\":{\"colorbar\":{\"outlinewidth\":0,\"ticks\":\"\"}}}],\"scatterternary\":[{\"type\":\"scatterternary\",\"marker\":{\"colorbar\":{\"outlinewidth\":0,\"ticks\":\"\"}}}],\"scattercarpet\":[{\"type\":\"scattercarpet\",\"marker\":{\"colorbar\":{\"outlinewidth\":0,\"ticks\":\"\"}}}],\"carpet\":[{\"aaxis\":{\"endlinecolor\":\"#2a3f5f\",\"gridcolor\":\"white\",\"linecolor\":\"white\",\"minorgridcolor\":\"white\",\"startlinecolor\":\"#2a3f5f\"},\"baxis\":{\"endlinecolor\":\"#2a3f5f\",\"gridcolor\":\"white\",\"linecolor\":\"white\",\"minorgridcolor\":\"white\",\"startlinecolor\":\"#2a3f5f\"},\"type\":\"carpet\"}],\"table\":[{\"cells\":{\"fill\":{\"color\":\"#EBF0F8\"},\"line\":{\"color\":\"white\"}},\"header\":{\"fill\":{\"color\":\"#C8D4E3\"},\"line\":{\"color\":\"white\"}},\"type\":\"table\"}],\"barpolar\":[{\"marker\":{\"line\":{\"color\":\"#E5ECF6\",\"width\":0.5},\"pattern\":{\"fillmode\":\"overlay\",\"size\":10,\"solidity\":0.2}},\"type\":\"barpolar\"}],\"pie\":[{\"automargin\":true,\"type\":\"pie\"}]},\"layout\":{\"autotypenumbers\":\"strict\",\"colorway\":[\"#636efa\",\"#EF553B\",\"#00cc96\",\"#ab63fa\",\"#FFA15A\",\"#19d3f3\",\"#FF6692\",\"#B6E880\",\"#FF97FF\",\"#FECB52\"],\"font\":{\"color\":\"#2a3f5f\"},\"hovermode\":\"closest\",\"hoverlabel\":{\"align\":\"left\"},\"paper_bgcolor\":\"white\",\"plot_bgcolor\":\"#E5ECF6\",\"polar\":{\"bgcolor\":\"#E5ECF6\",\"angularaxis\":{\"gridcolor\":\"white\",\"linecolor\":\"white\",\"ticks\":\"\"},\"radialaxis\":{\"gridcolor\":\"white\",\"linecolor\":\"white\",\"ticks\":\"\"}},\"ternary\":{\"bgcolor\":\"#E5ECF6\",\"aaxis\":{\"gridcolor\":\"white\",\"linecolor\":\"white\",\"ticks\":\"\"},\"baxis\":{\"gridcolor\":\"white\",\"linecolor\":\"white\",\"ticks\":\"\"},\"caxis\":{\"gridcolor\":\"white\",\"linecolor\":\"white\",\"ticks\":\"\"}},\"coloraxis\":{\"colorbar\":{\"outlinewidth\":0,\"ticks\":\"\"}},\"colorscale\":{\"sequential\":[[0.0,\"#0d0887\"],[0.1111111111111111,\"#46039f\"],[0.2222222222222222,\"#7201a8\"],[0.3333333333333333,\"#9c179e\"],[0.4444444444444444,\"#bd3786\"],[0.5555555555555556,\"#d8576b\"],[0.6666666666666666,\"#ed7953\"],[0.7777777777777778,\"#fb9f3a\"],[0.8888888888888888,\"#fdca26\"],[1.0,\"#f0f921\"]],\"sequentialminus\":[[0.0,\"#0d0887\"],[0.1111111111111111,\"#46039f\"],[0.2222222222222222,\"#7201a8\"],[0.3333333333333333,\"#9c179e\"],[0.4444444444444444,\"#bd3786\"],[0.5555555555555556,\"#d8576b\"],[0.6666666666666666,\"#ed7953\"],[0.7777777777777778,\"#fb9f3a\"],[0.8888888888888888,\"#fdca26\"],[1.0,\"#f0f921\"]],\"diverging\":[[0,\"#8e0152\"],[0.1,\"#c51b7d\"],[0.2,\"#de77ae\"],[0.3,\"#f1b6da\"],[0.4,\"#fde0ef\"],[0.5,\"#f7f7f7\"],[0.6,\"#e6f5d0\"],[0.7,\"#b8e186\"],[0.8,\"#7fbc41\"],[0.9,\"#4d9221\"],[1,\"#276419\"]]},\"xaxis\":{\"gridcolor\":\"white\",\"linecolor\":\"white\",\"ticks\":\"\",\"title\":{\"standoff\":15},\"zerolinecolor\":\"white\",\"automargin\":true,\"zerolinewidth\":2},\"yaxis\":{\"gridcolor\":\"white\",\"linecolor\":\"white\",\"ticks\":\"\",\"title\":{\"standoff\":15},\"zerolinecolor\":\"white\",\"automargin\":true,\"zerolinewidth\":2},\"scene\":{\"xaxis\":{\"backgroundcolor\":\"#E5ECF6\",\"gridcolor\":\"white\",\"linecolor\":\"white\",\"showbackground\":true,\"ticks\":\"\",\"zerolinecolor\":\"white\",\"gridwidth\":2},\"yaxis\":{\"backgroundcolor\":\"#E5ECF6\",\"gridcolor\":\"white\",\"linecolor\":\"white\",\"showbackground\":true,\"ticks\":\"\",\"zerolinecolor\":\"white\",\"gridwidth\":2},\"zaxis\":{\"backgroundcolor\":\"#E5ECF6\",\"gridcolor\":\"white\",\"linecolor\":\"white\",\"showbackground\":true,\"ticks\":\"\",\"zerolinecolor\":\"white\",\"gridwidth\":2}},\"shapedefaults\":{\"line\":{\"color\":\"#2a3f5f\"}},\"annotationdefaults\":{\"arrowcolor\":\"#2a3f5f\",\"arrowhead\":0,\"arrowwidth\":1},\"geo\":{\"bgcolor\":\"white\",\"landcolor\":\"#E5ECF6\",\"subunitcolor\":\"white\",\"showland\":true,\"showlakes\":true,\"lakecolor\":\"white\"},\"title\":{\"x\":0.05},\"mapbox\":{\"style\":\"light\"}}},\"xaxis\":{\"anchor\":\"y\",\"domain\":[0.0,1.0],\"title\":{\"text\":\"minSup\"}},\"yaxis\":{\"anchor\":\"x\",\"domain\":[0.0,1.0],\"title\":{\"text\":\"patterns\"}},\"legend\":{\"title\":{\"text\":\"algorithm\"},\"tracegroupgap\":0},\"margin\":{\"t\":60}},                        {\"responsive\": true}                    ).then(function(){\n",
              "                            \n",
              "var gd = document.getElementById('1d227cc9-de8f-4c9d-87eb-64984968e4b8');\n",
              "var x = new MutationObserver(function (mutations, observer) {{\n",
              "        var display = window.getComputedStyle(gd).display;\n",
              "        if (!display || display === 'none') {{\n",
              "            console.log([gd, 'removed!']);\n",
              "            Plotly.purge(gd);\n",
              "            observer.disconnect();\n",
              "        }}\n",
              "}});\n",
              "\n",
              "// Listen for the removal of the full notebook cells\n",
              "var notebookContainer = gd.closest('#notebook-container');\n",
              "if (notebookContainer) {{\n",
              "    x.observe(notebookContainer, {childList: true});\n",
              "}}\n",
              "\n",
              "// Listen for the clearing of the current output cell\n",
              "var outputEl = gd.closest('.output');\n",
              "if (outputEl) {{\n",
              "    x.observe(outputEl, {childList: true});\n",
              "}}\n",
              "\n",
              "                        })                };                            </script>        </div>\n",
              "</body>\n",
              "</html>"
            ]
          },
          "metadata": {},
          "output_type": "display_data"
        },
        {
          "data": {
            "text/html": [
              "<html>\n",
              "<head><meta charset=\"utf-8\" /></head>\n",
              "<body>\n",
              "    <div>            <script src=\"https://cdnjs.cloudflare.com/ajax/libs/mathjax/2.7.5/MathJax.js?config=TeX-AMS-MML_SVG\"></script><script type=\"text/javascript\">if (window.MathJax && window.MathJax.Hub && window.MathJax.Hub.Config) {window.MathJax.Hub.Config({SVG: {font: \"STIX-Web\"}});}</script>                <script type=\"text/javascript\">window.PlotlyConfig = {MathJaxConfig: 'local'};</script>\n",
              "        <script src=\"https://cdn.plot.ly/plotly-2.18.2.min.js\"></script>                <div id=\"ce4852b9-0b6a-48ad-bc0f-7633c4d87569\" class=\"plotly-graph-div\" style=\"height:525px; width:100%;\"></div>            <script type=\"text/javascript\">                                    window.PLOTLYENV=window.PLOTLYENV || {};                                    if (document.getElementById(\"ce4852b9-0b6a-48ad-bc0f-7633c4d87569\")) {                    Plotly.newPlot(                        \"ce4852b9-0b6a-48ad-bc0f-7633c4d87569\",                        [{\"hovertemplate\":\"algorithm=1.0<br>minSup=%{x}<br>runtime=%{y}<extra></extra>\",\"legendgroup\":\"1.0\",\"line\":{\"color\":\"#636efa\",\"dash\":\"solid\"},\"marker\":{\"symbol\":\"circle\"},\"mode\":\"lines\",\"name\":\"1.0\",\"orientation\":\"v\",\"showlegend\":true,\"x\":[100.0,150.0,200.0,250.0,300.0],\"xaxis\":\"x\",\"y\":[200.4313883781433,215.77937507629395,188.67943859100342,168.94476962089539,37.3324248790741],\"yaxis\":\"y\",\"type\":\"scatter\"},{\"hovertemplate\":\"algorithm=2.0<br>minSup=%{x}<br>runtime=%{y}<extra></extra>\",\"legendgroup\":\"2.0\",\"line\":{\"color\":\"#EF553B\",\"dash\":\"solid\"},\"marker\":{\"symbol\":\"circle\"},\"mode\":\"lines\",\"name\":\"2.0\",\"orientation\":\"v\",\"showlegend\":true,\"x\":[100.0,150.0,200.0,250.0,300.0],\"xaxis\":\"x\",\"y\":[58.722625970840454,51.57572889328003,45.932185649871826,43.84292006492615,37.07941794395447],\"yaxis\":\"y\",\"type\":\"scatter\"},{\"hovertemplate\":\"algorithm=3.0<br>minSup=%{x}<br>runtime=%{y}<extra></extra>\",\"legendgroup\":\"3.0\",\"line\":{\"color\":\"#00cc96\",\"dash\":\"solid\"},\"marker\":{\"symbol\":\"circle\"},\"mode\":\"lines\",\"name\":\"3.0\",\"orientation\":\"v\",\"showlegend\":true,\"x\":[100.0,150.0,200.0,250.0,300.0],\"xaxis\":\"x\",\"y\":[67.20803809165955,59.14054799079895,53.03014779090881,48.45858407020569,43.378785848617554],\"yaxis\":\"y\",\"type\":\"scatter\"},{\"hovertemplate\":\"algorithm=4.0<br>minSup=%{x}<br>runtime=%{y}<extra></extra>\",\"legendgroup\":\"4.0\",\"line\":{\"color\":\"#ab63fa\",\"dash\":\"solid\"},\"marker\":{\"symbol\":\"circle\"},\"mode\":\"lines\",\"name\":\"4.0\",\"orientation\":\"v\",\"showlegend\":true,\"x\":[100.0,150.0,200.0,250.0,300.0],\"xaxis\":\"x\",\"y\":[71.26200938224792,61.53869938850403,53.88394093513489,47.911397218704224,42.9378445148468],\"yaxis\":\"y\",\"type\":\"scatter\"},{\"hovertemplate\":\"algorithm=5.0<br>minSup=%{x}<br>runtime=%{y}<extra></extra>\",\"legendgroup\":\"5.0\",\"line\":{\"color\":\"#FFA15A\",\"dash\":\"solid\"},\"marker\":{\"symbol\":\"circle\"},\"mode\":\"lines\",\"name\":\"5.0\",\"orientation\":\"v\",\"showlegend\":true,\"x\":[100.0,150.0,200.0,250.0,300.0],\"xaxis\":\"x\",\"y\":[75.05018162727356,62.49766397476196,58.521841049194336,51.73890805244446,48.0176465511322],\"yaxis\":\"y\",\"type\":\"scatter\"}],                        {\"template\":{\"data\":{\"histogram2dcontour\":[{\"type\":\"histogram2dcontour\",\"colorbar\":{\"outlinewidth\":0,\"ticks\":\"\"},\"colorscale\":[[0.0,\"#0d0887\"],[0.1111111111111111,\"#46039f\"],[0.2222222222222222,\"#7201a8\"],[0.3333333333333333,\"#9c179e\"],[0.4444444444444444,\"#bd3786\"],[0.5555555555555556,\"#d8576b\"],[0.6666666666666666,\"#ed7953\"],[0.7777777777777778,\"#fb9f3a\"],[0.8888888888888888,\"#fdca26\"],[1.0,\"#f0f921\"]]}],\"choropleth\":[{\"type\":\"choropleth\",\"colorbar\":{\"outlinewidth\":0,\"ticks\":\"\"}}],\"histogram2d\":[{\"type\":\"histogram2d\",\"colorbar\":{\"outlinewidth\":0,\"ticks\":\"\"},\"colorscale\":[[0.0,\"#0d0887\"],[0.1111111111111111,\"#46039f\"],[0.2222222222222222,\"#7201a8\"],[0.3333333333333333,\"#9c179e\"],[0.4444444444444444,\"#bd3786\"],[0.5555555555555556,\"#d8576b\"],[0.6666666666666666,\"#ed7953\"],[0.7777777777777778,\"#fb9f3a\"],[0.8888888888888888,\"#fdca26\"],[1.0,\"#f0f921\"]]}],\"heatmap\":[{\"type\":\"heatmap\",\"colorbar\":{\"outlinewidth\":0,\"ticks\":\"\"},\"colorscale\":[[0.0,\"#0d0887\"],[0.1111111111111111,\"#46039f\"],[0.2222222222222222,\"#7201a8\"],[0.3333333333333333,\"#9c179e\"],[0.4444444444444444,\"#bd3786\"],[0.5555555555555556,\"#d8576b\"],[0.6666666666666666,\"#ed7953\"],[0.7777777777777778,\"#fb9f3a\"],[0.8888888888888888,\"#fdca26\"],[1.0,\"#f0f921\"]]}],\"heatmapgl\":[{\"type\":\"heatmapgl\",\"colorbar\":{\"outlinewidth\":0,\"ticks\":\"\"},\"colorscale\":[[0.0,\"#0d0887\"],[0.1111111111111111,\"#46039f\"],[0.2222222222222222,\"#7201a8\"],[0.3333333333333333,\"#9c179e\"],[0.4444444444444444,\"#bd3786\"],[0.5555555555555556,\"#d8576b\"],[0.6666666666666666,\"#ed7953\"],[0.7777777777777778,\"#fb9f3a\"],[0.8888888888888888,\"#fdca26\"],[1.0,\"#f0f921\"]]}],\"contourcarpet\":[{\"type\":\"contourcarpet\",\"colorbar\":{\"outlinewidth\":0,\"ticks\":\"\"}}],\"contour\":[{\"type\":\"contour\",\"colorbar\":{\"outlinewidth\":0,\"ticks\":\"\"},\"colorscale\":[[0.0,\"#0d0887\"],[0.1111111111111111,\"#46039f\"],[0.2222222222222222,\"#7201a8\"],[0.3333333333333333,\"#9c179e\"],[0.4444444444444444,\"#bd3786\"],[0.5555555555555556,\"#d8576b\"],[0.6666666666666666,\"#ed7953\"],[0.7777777777777778,\"#fb9f3a\"],[0.8888888888888888,\"#fdca26\"],[1.0,\"#f0f921\"]]}],\"surface\":[{\"type\":\"surface\",\"colorbar\":{\"outlinewidth\":0,\"ticks\":\"\"},\"colorscale\":[[0.0,\"#0d0887\"],[0.1111111111111111,\"#46039f\"],[0.2222222222222222,\"#7201a8\"],[0.3333333333333333,\"#9c179e\"],[0.4444444444444444,\"#bd3786\"],[0.5555555555555556,\"#d8576b\"],[0.6666666666666666,\"#ed7953\"],[0.7777777777777778,\"#fb9f3a\"],[0.8888888888888888,\"#fdca26\"],[1.0,\"#f0f921\"]]}],\"mesh3d\":[{\"type\":\"mesh3d\",\"colorbar\":{\"outlinewidth\":0,\"ticks\":\"\"}}],\"scatter\":[{\"fillpattern\":{\"fillmode\":\"overlay\",\"size\":10,\"solidity\":0.2},\"type\":\"scatter\"}],\"parcoords\":[{\"type\":\"parcoords\",\"line\":{\"colorbar\":{\"outlinewidth\":0,\"ticks\":\"\"}}}],\"scatterpolargl\":[{\"type\":\"scatterpolargl\",\"marker\":{\"colorbar\":{\"outlinewidth\":0,\"ticks\":\"\"}}}],\"bar\":[{\"error_x\":{\"color\":\"#2a3f5f\"},\"error_y\":{\"color\":\"#2a3f5f\"},\"marker\":{\"line\":{\"color\":\"#E5ECF6\",\"width\":0.5},\"pattern\":{\"fillmode\":\"overlay\",\"size\":10,\"solidity\":0.2}},\"type\":\"bar\"}],\"scattergeo\":[{\"type\":\"scattergeo\",\"marker\":{\"colorbar\":{\"outlinewidth\":0,\"ticks\":\"\"}}}],\"scatterpolar\":[{\"type\":\"scatterpolar\",\"marker\":{\"colorbar\":{\"outlinewidth\":0,\"ticks\":\"\"}}}],\"histogram\":[{\"marker\":{\"pattern\":{\"fillmode\":\"overlay\",\"size\":10,\"solidity\":0.2}},\"type\":\"histogram\"}],\"scattergl\":[{\"type\":\"scattergl\",\"marker\":{\"colorbar\":{\"outlinewidth\":0,\"ticks\":\"\"}}}],\"scatter3d\":[{\"type\":\"scatter3d\",\"line\":{\"colorbar\":{\"outlinewidth\":0,\"ticks\":\"\"}},\"marker\":{\"colorbar\":{\"outlinewidth\":0,\"ticks\":\"\"}}}],\"scattermapbox\":[{\"type\":\"scattermapbox\",\"marker\":{\"colorbar\":{\"outlinewidth\":0,\"ticks\":\"\"}}}],\"scatterternary\":[{\"type\":\"scatterternary\",\"marker\":{\"colorbar\":{\"outlinewidth\":0,\"ticks\":\"\"}}}],\"scattercarpet\":[{\"type\":\"scattercarpet\",\"marker\":{\"colorbar\":{\"outlinewidth\":0,\"ticks\":\"\"}}}],\"carpet\":[{\"aaxis\":{\"endlinecolor\":\"#2a3f5f\",\"gridcolor\":\"white\",\"linecolor\":\"white\",\"minorgridcolor\":\"white\",\"startlinecolor\":\"#2a3f5f\"},\"baxis\":{\"endlinecolor\":\"#2a3f5f\",\"gridcolor\":\"white\",\"linecolor\":\"white\",\"minorgridcolor\":\"white\",\"startlinecolor\":\"#2a3f5f\"},\"type\":\"carpet\"}],\"table\":[{\"cells\":{\"fill\":{\"color\":\"#EBF0F8\"},\"line\":{\"color\":\"white\"}},\"header\":{\"fill\":{\"color\":\"#C8D4E3\"},\"line\":{\"color\":\"white\"}},\"type\":\"table\"}],\"barpolar\":[{\"marker\":{\"line\":{\"color\":\"#E5ECF6\",\"width\":0.5},\"pattern\":{\"fillmode\":\"overlay\",\"size\":10,\"solidity\":0.2}},\"type\":\"barpolar\"}],\"pie\":[{\"automargin\":true,\"type\":\"pie\"}]},\"layout\":{\"autotypenumbers\":\"strict\",\"colorway\":[\"#636efa\",\"#EF553B\",\"#00cc96\",\"#ab63fa\",\"#FFA15A\",\"#19d3f3\",\"#FF6692\",\"#B6E880\",\"#FF97FF\",\"#FECB52\"],\"font\":{\"color\":\"#2a3f5f\"},\"hovermode\":\"closest\",\"hoverlabel\":{\"align\":\"left\"},\"paper_bgcolor\":\"white\",\"plot_bgcolor\":\"#E5ECF6\",\"polar\":{\"bgcolor\":\"#E5ECF6\",\"angularaxis\":{\"gridcolor\":\"white\",\"linecolor\":\"white\",\"ticks\":\"\"},\"radialaxis\":{\"gridcolor\":\"white\",\"linecolor\":\"white\",\"ticks\":\"\"}},\"ternary\":{\"bgcolor\":\"#E5ECF6\",\"aaxis\":{\"gridcolor\":\"white\",\"linecolor\":\"white\",\"ticks\":\"\"},\"baxis\":{\"gridcolor\":\"white\",\"linecolor\":\"white\",\"ticks\":\"\"},\"caxis\":{\"gridcolor\":\"white\",\"linecolor\":\"white\",\"ticks\":\"\"}},\"coloraxis\":{\"colorbar\":{\"outlinewidth\":0,\"ticks\":\"\"}},\"colorscale\":{\"sequential\":[[0.0,\"#0d0887\"],[0.1111111111111111,\"#46039f\"],[0.2222222222222222,\"#7201a8\"],[0.3333333333333333,\"#9c179e\"],[0.4444444444444444,\"#bd3786\"],[0.5555555555555556,\"#d8576b\"],[0.6666666666666666,\"#ed7953\"],[0.7777777777777778,\"#fb9f3a\"],[0.8888888888888888,\"#fdca26\"],[1.0,\"#f0f921\"]],\"sequentialminus\":[[0.0,\"#0d0887\"],[0.1111111111111111,\"#46039f\"],[0.2222222222222222,\"#7201a8\"],[0.3333333333333333,\"#9c179e\"],[0.4444444444444444,\"#bd3786\"],[0.5555555555555556,\"#d8576b\"],[0.6666666666666666,\"#ed7953\"],[0.7777777777777778,\"#fb9f3a\"],[0.8888888888888888,\"#fdca26\"],[1.0,\"#f0f921\"]],\"diverging\":[[0,\"#8e0152\"],[0.1,\"#c51b7d\"],[0.2,\"#de77ae\"],[0.3,\"#f1b6da\"],[0.4,\"#fde0ef\"],[0.5,\"#f7f7f7\"],[0.6,\"#e6f5d0\"],[0.7,\"#b8e186\"],[0.8,\"#7fbc41\"],[0.9,\"#4d9221\"],[1,\"#276419\"]]},\"xaxis\":{\"gridcolor\":\"white\",\"linecolor\":\"white\",\"ticks\":\"\",\"title\":{\"standoff\":15},\"zerolinecolor\":\"white\",\"automargin\":true,\"zerolinewidth\":2},\"yaxis\":{\"gridcolor\":\"white\",\"linecolor\":\"white\",\"ticks\":\"\",\"title\":{\"standoff\":15},\"zerolinecolor\":\"white\",\"automargin\":true,\"zerolinewidth\":2},\"scene\":{\"xaxis\":{\"backgroundcolor\":\"#E5ECF6\",\"gridcolor\":\"white\",\"linecolor\":\"white\",\"showbackground\":true,\"ticks\":\"\",\"zerolinecolor\":\"white\",\"gridwidth\":2},\"yaxis\":{\"backgroundcolor\":\"#E5ECF6\",\"gridcolor\":\"white\",\"linecolor\":\"white\",\"showbackground\":true,\"ticks\":\"\",\"zerolinecolor\":\"white\",\"gridwidth\":2},\"zaxis\":{\"backgroundcolor\":\"#E5ECF6\",\"gridcolor\":\"white\",\"linecolor\":\"white\",\"showbackground\":true,\"ticks\":\"\",\"zerolinecolor\":\"white\",\"gridwidth\":2}},\"shapedefaults\":{\"line\":{\"color\":\"#2a3f5f\"}},\"annotationdefaults\":{\"arrowcolor\":\"#2a3f5f\",\"arrowhead\":0,\"arrowwidth\":1},\"geo\":{\"bgcolor\":\"white\",\"landcolor\":\"#E5ECF6\",\"subunitcolor\":\"white\",\"showland\":true,\"showlakes\":true,\"lakecolor\":\"white\"},\"title\":{\"x\":0.05},\"mapbox\":{\"style\":\"light\"}}},\"xaxis\":{\"anchor\":\"y\",\"domain\":[0.0,1.0],\"title\":{\"text\":\"minSup\"}},\"yaxis\":{\"anchor\":\"x\",\"domain\":[0.0,1.0],\"title\":{\"text\":\"runtime\"}},\"legend\":{\"title\":{\"text\":\"algorithm\"},\"tracegroupgap\":0},\"margin\":{\"t\":60}},                        {\"responsive\": true}                    ).then(function(){\n",
              "                            \n",
              "var gd = document.getElementById('ce4852b9-0b6a-48ad-bc0f-7633c4d87569');\n",
              "var x = new MutationObserver(function (mutations, observer) {{\n",
              "        var display = window.getComputedStyle(gd).display;\n",
              "        if (!display || display === 'none') {{\n",
              "            console.log([gd, 'removed!']);\n",
              "            Plotly.purge(gd);\n",
              "            observer.disconnect();\n",
              "        }}\n",
              "}});\n",
              "\n",
              "// Listen for the removal of the full notebook cells\n",
              "var notebookContainer = gd.closest('#notebook-container');\n",
              "if (notebookContainer) {{\n",
              "    x.observe(notebookContainer, {childList: true});\n",
              "}}\n",
              "\n",
              "// Listen for the clearing of the current output cell\n",
              "var outputEl = gd.closest('.output');\n",
              "if (outputEl) {{\n",
              "    x.observe(outputEl, {childList: true});\n",
              "}}\n",
              "\n",
              "                        })                };                            </script>        </div>\n",
              "</body>\n",
              "</html>"
            ]
          },
          "metadata": {},
          "output_type": "display_data"
        }
      ],
      "source": [
        "import plotly.express as pe\n",
        "\n",
        "pe.line(result, x='minSup', y='patterns', color='algorithm').show()\n",
        "pe.line(result, x='minSup', y='runtime', color='algorithm').show()\n",
        "#pe.line(result, x='minSup', y='memory', color='algorithm').show()\n",
        "#Currently, we cannot calculate the memory consumed by a spark process in Python as it is carried out at multiple executors."
      ]
    }
  ],
  "metadata": {
    "colab": {
      "include_colab_link": true,
      "provenance": [],
      "toc_visible": true
    },
    "kernelspec": {
      "display_name": "Python 3",
      "name": "python3"
    },
    "language_info": {
      "name": "python"
    }
  },
  "nbformat": 4,
  "nbformat_minor": 0
}
