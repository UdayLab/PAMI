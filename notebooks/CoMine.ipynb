{
 "nbformat": 4,
 "nbformat_minor": 0,
 "metadata": {
  "colab": {
   "provenance": [],
   "authorship_tag": "ABX9TyP+p0/A83h+MyttQqcBVQjS",
   "include_colab_link": true
  },
  "kernelspec": {
   "name": "python3",
   "display_name": "Python 3"
  },
  "language_info": {
   "name": "python"
  }
 },
 "cells": [
  {
   "cell_type": "markdown",
   "metadata": {
    "id": "view-in-github",
    "colab_type": "text"
   },
   "source": [
    "<a href=\"https://colab.research.google.com/github/UdayLab/PAMI/blob/main/notebooks/CoMine.ipynb\" target=\"_parent\"><img src=\"https://colab.research.google.com/assets/colab-badge.svg\" alt=\"Open In Colab\"/></a>"
   ]
  },
  {
   "cell_type": "markdown",
   "source": [
    "# Finding correlated patterns in a transactional database using CoMine"
   ],
   "metadata": {
    "id": "Aj6UkFAj3sHh"
   }
  },
  {
   "cell_type": "markdown",
   "source": [
    "This tutorial has three parts. In the first part, we describe the basic approach to find correlated patterns in a transactional database using the CoMine algorithm. In the second part, we describe an advanced approach, where we evaluate the performance of CoMine algorithm on a dataset at different *minimum support* values. In the final part, we describe an advanced approach, where we evaluate the performance of CoMine algorithm on a dataset at different *minimum all-confidence* threshold values."
   ],
   "metadata": {
    "id": "X-YPyS6G4AVR"
   }
  },
  {
   "cell_type": "markdown",
   "source": [
    "***"
   ],
   "metadata": {
    "id": "XkW0ZZ276JtD"
   }
  },
  {
   "cell_type": "markdown",
   "source": [
    "## Prerequisites:"
   ],
   "metadata": {
    "id": "H8uDhbi55Use"
   }
  },
  {
   "cell_type": "markdown",
   "source": [
    "1. Installing the PAMI library"
   ],
   "metadata": {
    "id": "z-avjjpTZzbf"
   }
  },
  {
   "cell_type": "code",
   "source": [
    "!pip install pami #install the pami repository"
   ],
   "metadata": {
    "id": "2PdVic4l3-DQ"
   },
   "execution_count": null,
   "outputs": []
  },
  {
   "cell_type": "markdown",
   "source": [
    "2. Downloading a sample dataset"
   ],
   "metadata": {
    "id": "KZMafFx1Z7pn"
   }
  },
  {
   "cell_type": "code",
   "source": [
    "!wget -nc https://u-aizu.ac.jp/~udayrage/datasets/transactionalDatabases/Transactional_T10I4D100K.csv #download a sample transactional database"
   ],
   "metadata": {
    "id": "SCtq3Erc5nEo"
   },
   "execution_count": null,
   "outputs": []
  },
  {
   "cell_type": "markdown",
   "source": [
    "3. Printing few lines of a dataset to know its format."
   ],
   "metadata": {
    "id": "nXgP5F4eaBTW"
   }
  },
  {
   "cell_type": "code",
   "source": [
    "!head -2 Transactional_T10I4D100K.csv"
   ],
   "metadata": {
    "id": "7cHiIW59aS2T"
   },
   "execution_count": null,
   "outputs": []
  },
  {
   "cell_type": "markdown",
   "source": [
    "_format:_ every row contains items seperated by a seperator.\n",
    "\n",
    "__Example:__\n",
    "\n",
    "item1 item2 item3 item4\n",
    "\n",
    "item1 item4 item6"
   ],
   "metadata": {
    "id": "8HnTnR6MaebG"
   }
  },
  {
   "cell_type": "markdown",
   "source": [
    "***"
   ],
   "metadata": {
    "id": "uJ8Z0ey_6FhV"
   }
  },
  {
   "cell_type": "markdown",
   "source": [
    "\n",
    "\n",
    "```\n",
    "# This is formatted as code\n",
    "```\n",
    "\n",
    "## Part 1: Finding correlated patterns using CoMine"
   ],
   "metadata": {
    "id": "pCnHao5L6PRR"
   }
  },
  {
   "cell_type": "markdown",
   "source": [
    "### Step 1: Understanding the statistics of a database to choose an appropriate *minimum support* (*minSup*) value."
   ],
   "metadata": {
    "id": "XzsAMOgb6jjQ"
   }
  },
  {
   "cell_type": "code",
   "source": [
    "#import the class file\n",
    "import PAMI.extras.dbStats.TransactionalDatabase as stats\n",
    "\n",
    "#specify the file name\n",
    "inputFile = 'Transactional_T10I4D100K.csv'\n",
    "\n",
    "#initialize the class\n",
    "obj=stats.TransactionalDatabase(inputFile,sep='\\t')\n",
    "\n",
    "#execute the class\n",
    "obj.run()\n",
    "\n",
    "#Printing each of the database statistics\n",
    "print(f'Database size : {obj.getDatabaseSize()}')\n",
    "print(f'Total number of items : {obj.getTotalNumberOfItems()}')\n",
    "print(f'Database sparsity : {obj.getSparsity()}')\n",
    "print(f'Minimum Transaction Size : {obj.getMinimumTransactionLength()}')\n",
    "print(f'Average Transaction Size : {obj.getAverageTransactionLength()}')\n",
    "print(f'Maximum Transaction Size : {obj.getMaximumTransactionLength()}')\n",
    "print(f'Standard Deviation Transaction Size : {obj.getStandardDeviationTransactionLength()}')\n",
    "print(f'Variance in Transaction Sizes : {obj.getVarianceTransactionLength()}')\n",
    "\n",
    "#saving the distribution of items' frequencies and transactional lengths\n",
    "itemFrequencies = obj.getSortedListOfItemFrequencies()\n",
    "transactionLength = obj.getTransanctionalLengthDistribution()\n",
    "obj.save(itemFrequencies, 'itemFrequency.csv')\n",
    "obj.save(transactionLength, 'transactionSize.csv')\n",
    "\n",
    "#Alternative apporach to derive the database statistics and plot the graphs\n",
    "# obj.printStats()\n",
    "# obj.plotGraphs()"
   ],
   "metadata": {
    "id": "3isxz2qx54te"
   },
   "execution_count": null,
   "outputs": []
  },
  {
   "cell_type": "markdown",
   "source": [
    "### Step 2: Draw the items' frequency graph and transaction length's distribution graphs for more information"
   ],
   "metadata": {
    "id": "CnoHNwAC-kJQ"
   }
  },
  {
   "cell_type": "code",
   "source": [
    "import PAMI.extras.graph.plotLineGraphFromDictionary as plt\n",
    "\n",
    "itemFrequencies = obj.getFrequenciesInRange()\n",
    "transactionLength = obj.getTransanctionalLengthDistribution()\n",
    "plt.plotLineGraphFromDictionary(itemFrequencies, 100, 'Items\\' frequency graph', 'No of items', 'frequency')\n",
    "plt.plotLineGraphFromDictionary(transactionLength, 100, 'transaction distribution graph', 'transaction length', 'frequency')"
   ],
   "metadata": {
    "id": "xwZmfh4H7XSR"
   },
   "execution_count": null,
   "outputs": []
  },
  {
   "cell_type": "markdown",
   "source": [
    "### Step 3: Choosing an appropriate *minSup* value\n",
    "\n",
    "_Observations_\n",
    "\n",
    "  1. The input dataset is sparse as the sparsity value is 0.988 (=98.8%)\n",
    "  2. Many items have low frequencies as seen in the items' frequency graph\n",
    "  3. The dataset is not high dimensional as the inverted curve is around 10.\n",
    "\n",
    "  Based on the above observations, let us choose a _minSup_ value of 100 (in count). We can increase or decrease the _minSup_ based on the number of patterns being generated."
   ],
   "metadata": {
    "id": "BtnhlIfLAEHR"
   }
  },
  {
   "cell_type": "code",
   "source": [
    "minSup=100 #minSup is specified in count. However, the users can also specify minSup between 0 and 1."
   ],
   "metadata": {
    "id": "MHGkrW5e-zYR"
   },
   "execution_count": null,
   "outputs": []
  },
  {
   "cell_type": "markdown",
   "source": [
    "### Step 4: Choosing an appropriate minimum all-confidence value\n",
    "\n",
    "\n",
    "We are often interested in finding patterns having high correlation. Thus, let us choose a high minAllConf value, say 0.8 (or 80%) percent."
   ],
   "metadata": {
    "id": "OHAqRJnGdUXa"
   }
  },
  {
   "cell_type": "code",
   "source": [
    "minAllConf=0.2"
   ],
   "metadata": {
    "id": "8CV0Rfm5eikk"
   },
   "execution_count": null,
   "outputs": []
  },
  {
   "cell_type": "markdown",
   "source": [
    "### Step 4: Mining correlated patterns using CoMine"
   ],
   "metadata": {
    "id": "PlLmo9ZXDJkX"
   }
  },
  {
   "cell_type": "code",
   "source": [
    "from PAMI.correlatedPattern.basic import CoMine  as alg #import the algorithm\n",
    "\n",
    "obj = alg.CoMine(iFile='Transactional_T10I4D100K.csv', minSup=minSup, minAllConf=minAllConf, sep='\\t')    #initialize\n",
    "obj.startMine()            #start the mining process\n",
    "\n",
    "obj.save('correlatedPatternsAtMinSupCount100_020.txt') #save the patterns\n",
    "\n",
    "\n",
    "correlatedPatternsDF= obj.getPatternsAsDataFrame() #get the generated correlated patterns as a dataframe\n",
    "print('Total No of patterns: ' + str(len(correlatedPatternsDF))) #print the total number of patterns\n",
    "print('Runtime: ' + str(obj.getRuntime())) #measure the runtime\n",
    "\n",
    "print('Memory (RSS): ' + str(obj.getMemoryRSS()))\n",
    "print('Memory (USS): ' + str(obj.getMemoryUSS()))\n"
   ],
   "metadata": {
    "id": "pLV84IYcDHe3"
   },
   "execution_count": null,
   "outputs": []
  },
  {
   "cell_type": "markdown",
   "source": [
    "### Step 5: Investigating the generated patterns\n",
    "\n",
    "Open the patterns' file and investigate the generated patterns. If the generated patterns were interesting, use them; otherwise, redo the Steps 3 and 4 with a different _minSup_ value."
   ],
   "metadata": {
    "id": "wE3A15V3FHjO"
   }
  },
  {
   "cell_type": "code",
   "source": [
    "!tail correlatedPatternsAtMinSupCount300_040.txt"
   ],
   "metadata": {
    "id": "nZ6dfQshDc9E"
   },
   "execution_count": null,
   "outputs": []
  },
  {
   "cell_type": "markdown",
   "source": [
    "The storage format is: _correlatedPattern:support:allConfidence_\n",
    "\n"
   ],
   "metadata": {
    "id": "OSrlE5hwGEnH"
   }
  },
  {
   "cell_type": "markdown",
   "source": [
    "***"
   ],
   "metadata": {
    "id": "HcaEFLGCHBjP"
   }
  },
  {
   "cell_type": "markdown",
   "source": [
    "## Part 2: Evaluating the CoMine algorithm on a dataset at different minSup values"
   ],
   "metadata": {
    "id": "FUO1nBPoHXJN"
   }
  },
  {
   "cell_type": "markdown",
   "source": [
    "### Step 1: Import the libraries and specify the input parameters"
   ],
   "metadata": {
    "id": "g90LiLg1Hzb-"
   }
  },
  {
   "cell_type": "code",
   "source": [
    "#Import the libraries\n",
    "from PAMI.correlatedPattern.basic import CoMine  as alg #import the algorithm\n",
    "import pandas as pd\n",
    "\n",
    "#Specify the input parameters\n",
    "inputFile = 'Transactional_T10I4D100K.csv'\n",
    "seperator='\\t'\n",
    "minSupValues = [100, 150, 200, 250, 300]\n",
    "#minimumSupport can also specified between 0 to 1. E.g., minSupList = [0.005, 0.006, 0.007, 0.008, 0.009]\n",
    "minAllConf=0.3"
   ],
   "metadata": {
    "id": "FfYBLxBPG5n_"
   },
   "execution_count": null,
   "outputs": []
  },
  {
   "cell_type": "markdown",
   "source": [
    "### Step 2: Create a data frame to store the results of FP-growth"
   ],
   "metadata": {
    "id": "2lvGcqTKJDee"
   }
  },
  {
   "cell_type": "code",
   "source": [
    "result = pd.DataFrame(columns=['algorithm', 'minSup', 'patterns', 'runtime', 'memory'])\n",
    "#initialize a data frame to store the results of FPGrowth algorithm"
   ],
   "metadata": {
    "id": "9Hl47i3ZICpp"
   },
   "execution_count": null,
   "outputs": []
  },
  {
   "cell_type": "markdown",
   "source": [
    "### Step 2: Create a data frame to store the results of FP-growth"
   ],
   "metadata": {
    "id": "7l6TPYlslNe6"
   }
  },
  {
   "cell_type": "code",
   "source": [
    "result = pd.DataFrame(columns=['algorithm', 'minSup', 'patterns', 'runtime', 'memory'])\n",
    "#initialize a data frame to store the results of FPGrowth algorithm"
   ],
   "metadata": {
    "id": "CeoZNJy9lNe7"
   },
   "execution_count": null,
   "outputs": []
  },
  {
   "cell_type": "markdown",
   "source": [
    "### Step 3: Execute the algorithm at different minSup values"
   ],
   "metadata": {
    "id": "Hah3RHNNJf0f"
   }
  },
  {
   "cell_type": "code",
   "source": [
    "for minSup in minSupValues:\n",
    "    obj = alg.CoMine(inputFile, minSup=minSup,minAllConf=minAllConf,sep=seperator)\n",
    "    obj.startMine()\n",
    "    #store the results in the data frame\n",
    "    result.loc[result.shape[0]] = ['CoMine', minSup, len(obj.getPatterns()), obj.getRuntime(), obj.getMemoryRSS()]"
   ],
   "metadata": {
    "id": "9ivJHoSEJlky"
   },
   "execution_count": null,
   "outputs": []
  },
  {
   "cell_type": "markdown",
   "source": [
    "### Step 4: Print the result"
   ],
   "metadata": {
    "id": "qs3jpnTBJSd6"
   }
  },
  {
   "cell_type": "code",
   "source": [
    "print(result)"
   ],
   "metadata": {
    "id": "MReBFwDFJ_3x"
   },
   "execution_count": null,
   "outputs": []
  },
  {
   "cell_type": "markdown",
   "source": [
    "### Step 5: Visualizing the results"
   ],
   "metadata": {
    "id": "6ELjr0iPKDSY"
   }
  },
  {
   "cell_type": "code",
   "source": [
    "from PAMI.extras.graph import plotLineGraphsFromDataFrame as plt\n",
    "\n",
    "ab = plt.plotGraphsFromDataFrame(result)\n",
    "ab.plotGraphsFromDataFrame()"
   ],
   "metadata": {
    "id": "DvTQdsGLKJIU"
   },
   "execution_count": null,
   "outputs": []
  },
  {
   "cell_type": "markdown",
   "source": [
    "***"
   ],
   "metadata": {
    "id": "JHYsNXUskO3f"
   }
  },
  {
   "cell_type": "markdown",
   "source": [
    "## Part 3: Evaluating the CoMine algorithm on a dataset at different minAllConf values"
   ],
   "metadata": {
    "id": "RO1D1sWIkn9J"
   }
  },
  {
   "cell_type": "markdown",
   "source": [
    "### Step 1: Import the libraries and specify the input parameters"
   ],
   "metadata": {
    "id": "xRXSrfmbk1Hv"
   }
  },
  {
   "cell_type": "code",
   "source": [
    "#Import the libraries\n",
    "from PAMI.correlatedPattern.basic import CoMine  as alg #import the algorithm\n",
    "import pandas as pd\n",
    "\n",
    "#Specify the input parameters\n",
    "inputFile = 'Transactional_T10I4D100K.csv'\n",
    "seperator='\\t'\n",
    "minAllConfValues = [0.1, 0.2, 0.3, 0.4, 0.5]\n",
    "#minimumSupport can also specified between 0 to 1. E.g., minSupList = [0.005, 0.006, 0.007, 0.008, 0.009]\n",
    "minSup=100"
   ],
   "metadata": {
    "id": "o2-8T9cok1H7"
   },
   "execution_count": null,
   "outputs": []
  },
  {
   "cell_type": "markdown",
   "source": [
    "### Step 2: Create a data frame to store the results of FP-growth"
   ],
   "metadata": {
    "id": "jkHVdtXplOtH"
   }
  },
  {
   "cell_type": "code",
   "source": [
    "result = pd.DataFrame(columns=['algorithm', 'minAllConf', 'patterns', 'runtime', 'memory'])\n",
    "#initialize a data frame to store the results of FPGrowth algorithm"
   ],
   "metadata": {
    "id": "rpihXYU7lOtI"
   },
   "execution_count": null,
   "outputs": []
  },
  {
   "cell_type": "markdown",
   "source": [
    "### Step 3: Execute the algorithm at different minAllConf values"
   ],
   "metadata": {
    "id": "kXFv23F0lWr4"
   }
  },
  {
   "cell_type": "code",
   "source": [
    "for minAllConf in minAllConfValues:\n",
    "    obj = alg.CPGrowth(inputFile, minSup=minSupCount,minAllConf=minAllConf,sep=seperator)\n",
    "    obj.startMine()\n",
    "    #store the results in the data frame\n",
    "    result.loc[result.shape[0]] = ['CoMine', minAllConf, len(obj.getPatterns()), obj.getRuntime(), obj.getMemoryRSS()]"
   ],
   "metadata": {
    "id": "HhoI6jP7lWsD"
   },
   "execution_count": null,
   "outputs": []
  },
  {
   "cell_type": "markdown",
   "source": [
    "### Step 4: Print the result"
   ],
   "metadata": {
    "id": "qIX_od2JlWsE"
   }
  },
  {
   "cell_type": "code",
   "source": [
    "print(result)"
   ],
   "metadata": {
    "id": "Z0SaqM0PlWsE"
   },
   "execution_count": null,
   "outputs": []
  },
  {
   "cell_type": "markdown",
   "source": [
    "### Step 5: Visualizing the results"
   ],
   "metadata": {
    "id": "Gq6CSDDMlWsE"
   }
  },
  {
   "cell_type": "code",
   "source": [
    "result.plot(x='minAllConf', y='patterns', kind='line')\n",
    "result.plot(x='minAllConf', y='runtime', kind='line')\n",
    "result.plot(x='minAllConf', y='memory', kind='line')\n",
    "\n",
    "#Graphs can be improved further by using additional packages, such as plotly and matplotlib"
   ],
   "metadata": {
    "id": "0Ah-9rFulWsE"
   },
   "execution_count": null,
   "outputs": []
  }
 ]
}
