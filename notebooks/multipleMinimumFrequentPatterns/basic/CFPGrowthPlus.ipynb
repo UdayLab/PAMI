{
  "cells": [
    {
      "cell_type": "markdown",
      "metadata": {
        "id": "view-in-github",
        "colab_type": "text"
      },
      "source": [
        "<a href=\"https://colab.research.google.com/github/UdayLab/PAMI/blob/main/notebooks/multipleMinimumFrequentPatterns/basic/CFPGrowthPlus.ipynb\" target=\"_parent\"><img src=\"https://colab.research.google.com/assets/colab-badge.svg\" alt=\"Open In Colab\"/></a>"
      ]
    },
    {
      "cell_type": "markdown",
      "id": "e960ba75-7c84-45aa-bbca-f6eca0f8731b",
      "metadata": {
        "tags": [],
        "id": "e960ba75-7c84-45aa-bbca-f6eca0f8731b"
      },
      "source": [
        "# Finding Frequent patterns in Transactional Databases using CFPGrowthPlus Algorithm"
      ]
    },
    {
      "cell_type": "markdown",
      "id": "d71c53a8-9c59-4220-ad59-92ec26b39c42",
      "metadata": {
        "id": "d71c53a8-9c59-4220-ad59-92ec26b39c42"
      },
      "source": [
        "In this tutorial, we will discuss the first approaches to find frequent patterns in big data using CFPGrowthPlus algorithm.\n",
        "\n",
        "[__Basic approach:__](#basicApproach) Here, we present the steps to discover frequent patterns using a single beta value"
      ]
    },
    {
      "cell_type": "markdown",
      "id": "f7fb1145-420c-4ce0-905e-383d013cb11f",
      "metadata": {
        "id": "f7fb1145-420c-4ce0-905e-383d013cb11f"
      },
      "source": [
        "***"
      ]
    },
    {
      "cell_type": "markdown",
      "id": "1f5910aa-1ab5-4a86-bf02-69d3541dc453",
      "metadata": {
        "id": "1f5910aa-1ab5-4a86-bf02-69d3541dc453"
      },
      "source": [
        "## <a id='basicApproach'>Basic approach: Executing CFPGrowthPlus on a single dataset at a particular beta value</a>"
      ]
    },
    {
      "cell_type": "markdown",
      "metadata": {
        "collapsed": false,
        "id": "7LkKkEv9qiHf"
      },
      "source": [
        "#### Step 0 : Install latest version of PAMI library"
      ],
      "id": "7LkKkEv9qiHf"
    },
    {
      "cell_type": "code",
      "execution_count": 1,
      "metadata": {
        "id": "0FiJZo_JqiHg",
        "outputId": "0858686b-2cd9-47f0-e8b7-9cec03e25ef7",
        "colab": {
          "base_uri": "https://localhost:8080/"
        }
      },
      "outputs": [
        {
          "output_type": "stream",
          "name": "stdout",
          "text": [
            "Collecting PAMI\n",
            "  Downloading pami-2024.10.14.2-py3-none-any.whl.metadata (80 kB)\n",
            "\u001b[?25l     \u001b[90m━━━━━━━━━━━━━━━━━━━━━━━━━━━━━━━━━━━━━━━━\u001b[0m \u001b[32m0.0/80.3 kB\u001b[0m \u001b[31m?\u001b[0m eta \u001b[36m-:--:--\u001b[0m\r\u001b[2K     \u001b[90m━━━━━━━━━━━━━━━━━━━━━━━━━━━━━━━━━━━━━━━━\u001b[0m \u001b[32m80.3/80.3 kB\u001b[0m \u001b[31m2.8 MB/s\u001b[0m eta \u001b[36m0:00:00\u001b[0m\n",
            "\u001b[?25hRequirement already satisfied: psutil in /usr/local/lib/python3.10/dist-packages (from PAMI) (5.9.5)\n",
            "Requirement already satisfied: pandas in /usr/local/lib/python3.10/dist-packages (from PAMI) (2.2.2)\n",
            "Requirement already satisfied: plotly in /usr/local/lib/python3.10/dist-packages (from PAMI) (5.24.1)\n",
            "Requirement already satisfied: matplotlib in /usr/local/lib/python3.10/dist-packages (from PAMI) (3.7.1)\n",
            "Collecting resource (from PAMI)\n",
            "  Downloading Resource-0.2.1-py2.py3-none-any.whl.metadata (478 bytes)\n",
            "Collecting validators (from PAMI)\n",
            "  Downloading validators-0.34.0-py3-none-any.whl.metadata (3.8 kB)\n",
            "Requirement already satisfied: urllib3 in /usr/local/lib/python3.10/dist-packages (from PAMI) (2.2.3)\n",
            "Requirement already satisfied: Pillow in /usr/local/lib/python3.10/dist-packages (from PAMI) (10.4.0)\n",
            "Requirement already satisfied: numpy in /usr/local/lib/python3.10/dist-packages (from PAMI) (1.26.4)\n",
            "Requirement already satisfied: sphinx in /usr/local/lib/python3.10/dist-packages (from PAMI) (5.0.2)\n",
            "Collecting sphinx-rtd-theme (from PAMI)\n",
            "  Downloading sphinx_rtd_theme-3.0.1-py2.py3-none-any.whl.metadata (4.4 kB)\n",
            "Collecting discord.py (from PAMI)\n",
            "  Downloading discord.py-2.4.0-py3-none-any.whl.metadata (6.9 kB)\n",
            "Requirement already satisfied: networkx in /usr/local/lib/python3.10/dist-packages (from PAMI) (3.4)\n",
            "Requirement already satisfied: deprecated in /usr/local/lib/python3.10/dist-packages (from PAMI) (1.2.14)\n",
            "Requirement already satisfied: wrapt<2,>=1.10 in /usr/local/lib/python3.10/dist-packages (from deprecated->PAMI) (1.16.0)\n",
            "Requirement already satisfied: aiohttp<4,>=3.7.4 in /usr/local/lib/python3.10/dist-packages (from discord.py->PAMI) (3.10.10)\n",
            "Requirement already satisfied: contourpy>=1.0.1 in /usr/local/lib/python3.10/dist-packages (from matplotlib->PAMI) (1.3.0)\n",
            "Requirement already satisfied: cycler>=0.10 in /usr/local/lib/python3.10/dist-packages (from matplotlib->PAMI) (0.12.1)\n",
            "Requirement already satisfied: fonttools>=4.22.0 in /usr/local/lib/python3.10/dist-packages (from matplotlib->PAMI) (4.54.1)\n",
            "Requirement already satisfied: kiwisolver>=1.0.1 in /usr/local/lib/python3.10/dist-packages (from matplotlib->PAMI) (1.4.7)\n",
            "Requirement already satisfied: packaging>=20.0 in /usr/local/lib/python3.10/dist-packages (from matplotlib->PAMI) (24.1)\n",
            "Requirement already satisfied: pyparsing>=2.3.1 in /usr/local/lib/python3.10/dist-packages (from matplotlib->PAMI) (3.1.4)\n",
            "Requirement already satisfied: python-dateutil>=2.7 in /usr/local/lib/python3.10/dist-packages (from matplotlib->PAMI) (2.8.2)\n",
            "Requirement already satisfied: pytz>=2020.1 in /usr/local/lib/python3.10/dist-packages (from pandas->PAMI) (2024.2)\n",
            "Requirement already satisfied: tzdata>=2022.7 in /usr/local/lib/python3.10/dist-packages (from pandas->PAMI) (2024.2)\n",
            "Requirement already satisfied: tenacity>=6.2.0 in /usr/local/lib/python3.10/dist-packages (from plotly->PAMI) (9.0.0)\n",
            "Collecting JsonForm>=0.0.2 (from resource->PAMI)\n",
            "  Downloading JsonForm-0.0.2.tar.gz (2.4 kB)\n",
            "  Preparing metadata (setup.py) ... \u001b[?25l\u001b[?25hdone\n",
            "Collecting JsonSir>=0.0.2 (from resource->PAMI)\n",
            "  Downloading JsonSir-0.0.2.tar.gz (2.2 kB)\n",
            "  Preparing metadata (setup.py) ... \u001b[?25l\u001b[?25hdone\n",
            "Collecting python-easyconfig>=0.1.0 (from resource->PAMI)\n",
            "  Downloading Python_EasyConfig-0.1.7-py2.py3-none-any.whl.metadata (462 bytes)\n",
            "Requirement already satisfied: sphinxcontrib-applehelp in /usr/local/lib/python3.10/dist-packages (from sphinx->PAMI) (2.0.0)\n",
            "Requirement already satisfied: sphinxcontrib-devhelp in /usr/local/lib/python3.10/dist-packages (from sphinx->PAMI) (2.0.0)\n",
            "Requirement already satisfied: sphinxcontrib-jsmath in /usr/local/lib/python3.10/dist-packages (from sphinx->PAMI) (1.0.1)\n",
            "Requirement already satisfied: sphinxcontrib-htmlhelp>=2.0.0 in /usr/local/lib/python3.10/dist-packages (from sphinx->PAMI) (2.1.0)\n",
            "Requirement already satisfied: sphinxcontrib-serializinghtml>=1.1.5 in /usr/local/lib/python3.10/dist-packages (from sphinx->PAMI) (2.0.0)\n",
            "Requirement already satisfied: sphinxcontrib-qthelp in /usr/local/lib/python3.10/dist-packages (from sphinx->PAMI) (2.0.0)\n",
            "Requirement already satisfied: Jinja2>=2.3 in /usr/local/lib/python3.10/dist-packages (from sphinx->PAMI) (3.1.4)\n",
            "Requirement already satisfied: Pygments>=2.0 in /usr/local/lib/python3.10/dist-packages (from sphinx->PAMI) (2.18.0)\n",
            "Requirement already satisfied: docutils<0.19,>=0.14 in /usr/local/lib/python3.10/dist-packages (from sphinx->PAMI) (0.18.1)\n",
            "Requirement already satisfied: snowballstemmer>=1.1 in /usr/local/lib/python3.10/dist-packages (from sphinx->PAMI) (2.2.0)\n",
            "Requirement already satisfied: babel>=1.3 in /usr/local/lib/python3.10/dist-packages (from sphinx->PAMI) (2.16.0)\n",
            "Requirement already satisfied: alabaster<0.8,>=0.7 in /usr/local/lib/python3.10/dist-packages (from sphinx->PAMI) (0.7.16)\n",
            "Requirement already satisfied: imagesize in /usr/local/lib/python3.10/dist-packages (from sphinx->PAMI) (1.4.1)\n",
            "Requirement already satisfied: requests>=2.5.0 in /usr/local/lib/python3.10/dist-packages (from sphinx->PAMI) (2.32.3)\n",
            "Collecting sphinx (from PAMI)\n",
            "  Downloading sphinx-8.1.3-py3-none-any.whl.metadata (6.4 kB)\n",
            "Collecting sphinxcontrib-jquery<5,>=4 (from sphinx-rtd-theme->PAMI)\n",
            "  Downloading sphinxcontrib_jquery-4.1-py2.py3-none-any.whl.metadata (2.6 kB)\n",
            "Collecting docutils<0.22,>0.18 (from sphinx-rtd-theme->PAMI)\n",
            "  Downloading docutils-0.21.2-py3-none-any.whl.metadata (2.8 kB)\n",
            "Requirement already satisfied: tomli>=2 in /usr/local/lib/python3.10/dist-packages (from sphinx->PAMI) (2.0.2)\n",
            "Requirement already satisfied: aiohappyeyeballs>=2.3.0 in /usr/local/lib/python3.10/dist-packages (from aiohttp<4,>=3.7.4->discord.py->PAMI) (2.4.3)\n",
            "Requirement already satisfied: aiosignal>=1.1.2 in /usr/local/lib/python3.10/dist-packages (from aiohttp<4,>=3.7.4->discord.py->PAMI) (1.3.1)\n",
            "Requirement already satisfied: attrs>=17.3.0 in /usr/local/lib/python3.10/dist-packages (from aiohttp<4,>=3.7.4->discord.py->PAMI) (24.2.0)\n",
            "Requirement already satisfied: frozenlist>=1.1.1 in /usr/local/lib/python3.10/dist-packages (from aiohttp<4,>=3.7.4->discord.py->PAMI) (1.4.1)\n",
            "Requirement already satisfied: multidict<7.0,>=4.5 in /usr/local/lib/python3.10/dist-packages (from aiohttp<4,>=3.7.4->discord.py->PAMI) (6.1.0)\n",
            "Requirement already satisfied: yarl<2.0,>=1.12.0 in /usr/local/lib/python3.10/dist-packages (from aiohttp<4,>=3.7.4->discord.py->PAMI) (1.14.0)\n",
            "Requirement already satisfied: async-timeout<5.0,>=4.0 in /usr/local/lib/python3.10/dist-packages (from aiohttp<4,>=3.7.4->discord.py->PAMI) (4.0.3)\n",
            "Requirement already satisfied: MarkupSafe>=2.0 in /usr/local/lib/python3.10/dist-packages (from Jinja2>=2.3->sphinx->PAMI) (3.0.1)\n",
            "Requirement already satisfied: jsonschema in /usr/local/lib/python3.10/dist-packages (from JsonForm>=0.0.2->resource->PAMI) (4.23.0)\n",
            "Requirement already satisfied: six>=1.5 in /usr/local/lib/python3.10/dist-packages (from python-dateutil>=2.7->matplotlib->PAMI) (1.16.0)\n",
            "Requirement already satisfied: PyYAML in /usr/local/lib/python3.10/dist-packages (from python-easyconfig>=0.1.0->resource->PAMI) (6.0.2)\n",
            "Requirement already satisfied: charset-normalizer<4,>=2 in /usr/local/lib/python3.10/dist-packages (from requests>=2.5.0->sphinx->PAMI) (3.4.0)\n",
            "Requirement already satisfied: idna<4,>=2.5 in /usr/local/lib/python3.10/dist-packages (from requests>=2.5.0->sphinx->PAMI) (3.10)\n",
            "Requirement already satisfied: certifi>=2017.4.17 in /usr/local/lib/python3.10/dist-packages (from requests>=2.5.0->sphinx->PAMI) (2024.8.30)\n",
            "Requirement already satisfied: typing-extensions>=4.1.0 in /usr/local/lib/python3.10/dist-packages (from multidict<7.0,>=4.5->aiohttp<4,>=3.7.4->discord.py->PAMI) (4.12.2)\n",
            "Requirement already satisfied: propcache>=0.2.0 in /usr/local/lib/python3.10/dist-packages (from yarl<2.0,>=1.12.0->aiohttp<4,>=3.7.4->discord.py->PAMI) (0.2.0)\n",
            "Requirement already satisfied: jsonschema-specifications>=2023.03.6 in /usr/local/lib/python3.10/dist-packages (from jsonschema->JsonForm>=0.0.2->resource->PAMI) (2024.10.1)\n",
            "Requirement already satisfied: referencing>=0.28.4 in /usr/local/lib/python3.10/dist-packages (from jsonschema->JsonForm>=0.0.2->resource->PAMI) (0.35.1)\n",
            "Requirement already satisfied: rpds-py>=0.7.1 in /usr/local/lib/python3.10/dist-packages (from jsonschema->JsonForm>=0.0.2->resource->PAMI) (0.20.0)\n",
            "Downloading pami-2024.10.14.2-py3-none-any.whl (1.1 MB)\n",
            "\u001b[2K   \u001b[90m━━━━━━━━━━━━━━━━━━━━━━━━━━━━━━━━━━━━━━━━\u001b[0m \u001b[32m1.1/1.1 MB\u001b[0m \u001b[31m27.9 MB/s\u001b[0m eta \u001b[36m0:00:00\u001b[0m\n",
            "\u001b[?25hDownloading discord.py-2.4.0-py3-none-any.whl (1.1 MB)\n",
            "\u001b[2K   \u001b[90m━━━━━━━━━━━━━━━━━━━━━━━━━━━━━━━━━━━━━━━━\u001b[0m \u001b[32m1.1/1.1 MB\u001b[0m \u001b[31m37.1 MB/s\u001b[0m eta \u001b[36m0:00:00\u001b[0m\n",
            "\u001b[?25hDownloading Resource-0.2.1-py2.py3-none-any.whl (25 kB)\n",
            "Downloading sphinx_rtd_theme-3.0.1-py2.py3-none-any.whl (7.7 MB)\n",
            "\u001b[2K   \u001b[90m━━━━━━━━━━━━━━━━━━━━━━━━━━━━━━━━━━━━━━━━\u001b[0m \u001b[32m7.7/7.7 MB\u001b[0m \u001b[31m64.5 MB/s\u001b[0m eta \u001b[36m0:00:00\u001b[0m\n",
            "\u001b[?25hDownloading sphinx-8.1.3-py3-none-any.whl (3.5 MB)\n",
            "\u001b[2K   \u001b[90m━━━━━━━━━━━━━━━━━━━━━━━━━━━━━━━━━━━━━━━━\u001b[0m \u001b[32m3.5/3.5 MB\u001b[0m \u001b[31m51.4 MB/s\u001b[0m eta \u001b[36m0:00:00\u001b[0m\n",
            "\u001b[?25hDownloading validators-0.34.0-py3-none-any.whl (43 kB)\n",
            "\u001b[2K   \u001b[90m━━━━━━━━━━━━━━━━━━━━━━━━━━━━━━━━━━━━━━━━\u001b[0m \u001b[32m43.5/43.5 kB\u001b[0m \u001b[31m2.7 MB/s\u001b[0m eta \u001b[36m0:00:00\u001b[0m\n",
            "\u001b[?25hDownloading docutils-0.21.2-py3-none-any.whl (587 kB)\n",
            "\u001b[2K   \u001b[90m━━━━━━━━━━━━━━━━━━━━━━━━━━━━━━━━━━━━━━━━\u001b[0m \u001b[32m587.4/587.4 kB\u001b[0m \u001b[31m30.0 MB/s\u001b[0m eta \u001b[36m0:00:00\u001b[0m\n",
            "\u001b[?25hDownloading Python_EasyConfig-0.1.7-py2.py3-none-any.whl (5.4 kB)\n",
            "Downloading sphinxcontrib_jquery-4.1-py2.py3-none-any.whl (121 kB)\n",
            "\u001b[2K   \u001b[90m━━━━━━━━━━━━━━━━━━━━━━━━━━━━━━━━━━━━━━━━\u001b[0m \u001b[32m121.1/121.1 kB\u001b[0m \u001b[31m7.1 MB/s\u001b[0m eta \u001b[36m0:00:00\u001b[0m\n",
            "\u001b[?25hBuilding wheels for collected packages: JsonForm, JsonSir\n",
            "  Building wheel for JsonForm (setup.py) ... \u001b[?25l\u001b[?25hdone\n",
            "  Created wheel for JsonForm: filename=JsonForm-0.0.2-py3-none-any.whl size=3311 sha256=364f0d2c4ca89bf01a1a39d09fe564d91eaaca62a55698afef8cd0077a3cedc3\n",
            "  Stored in directory: /root/.cache/pip/wheels/b6/e5/87/11026246d3bd4ad67c0615682d2d6748bbd9a40ac0490882bd\n",
            "  Building wheel for JsonSir (setup.py) ... \u001b[?25l\u001b[?25hdone\n",
            "  Created wheel for JsonSir: filename=JsonSir-0.0.2-py3-none-any.whl size=4752 sha256=e6e9584420f00aba23d7e82dc30a763cd3b886120f9476172df2ddc72d728db7\n",
            "  Stored in directory: /root/.cache/pip/wheels/1d/4c/d3/4d9757425983b43eb709be1043d82cd03fb863ce5f56f117e6\n",
            "Successfully built JsonForm JsonSir\n",
            "Installing collected packages: JsonSir, validators, python-easyconfig, docutils, sphinx, sphinxcontrib-jquery, sphinx-rtd-theme, JsonForm, discord.py, resource, PAMI\n",
            "  Attempting uninstall: docutils\n",
            "    Found existing installation: docutils 0.18.1\n",
            "    Uninstalling docutils-0.18.1:\n",
            "      Successfully uninstalled docutils-0.18.1\n",
            "  Attempting uninstall: sphinx\n",
            "    Found existing installation: Sphinx 5.0.2\n",
            "    Uninstalling Sphinx-5.0.2:\n",
            "      Successfully uninstalled Sphinx-5.0.2\n",
            "Successfully installed JsonForm-0.0.2 JsonSir-0.0.2 PAMI-2024.10.14.2 discord.py-2.4.0 docutils-0.21.2 python-easyconfig-0.1.7 resource-0.2.1 sphinx-8.1.3 sphinx-rtd-theme-3.0.1 sphinxcontrib-jquery-4.1 validators-0.34.0\n"
          ]
        }
      ],
      "source": [
        "!pip install -U PAMI"
      ],
      "id": "0FiJZo_JqiHg"
    },
    {
      "cell_type": "markdown",
      "source": [
        "#### Step 0.1 : Downloading the inputFile"
      ],
      "metadata": {
        "id": "Ft8yIxpB74JV"
      },
      "id": "Ft8yIxpB74JV"
    },
    {
      "cell_type": "code",
      "execution_count": 2,
      "id": "b47437ab",
      "metadata": {
        "id": "b47437ab",
        "outputId": "160abe3b-6b30-4d03-9186-02461cccb3c1",
        "colab": {
          "base_uri": "https://localhost:8080/"
        }
      },
      "outputs": [
        {
          "output_type": "stream",
          "name": "stdout",
          "text": [
            "--2024-10-15 07:35:58--  https://u-aizu.ac.jp/~udayrage/datasets/transactionalDatabases/Transactional_T10I4D100K.csv\n",
            "Resolving u-aizu.ac.jp (u-aizu.ac.jp)... 150.95.161.176, 150.31.244.160\n",
            "Connecting to u-aizu.ac.jp (u-aizu.ac.jp)|150.95.161.176|:443... connected.\n",
            "HTTP request sent, awaiting response... 200 OK\n",
            "Length: 4019277 (3.8M) [text/csv]\n",
            "Saving to: ‘Transactional_T10I4D100K.csv’\n",
            "\n",
            "Transactional_T10I4 100%[===================>]   3.83M  1.26MB/s    in 3.0s    \n",
            "\n",
            "2024-10-15 07:36:02 (1.26 MB/s) - ‘Transactional_T10I4D100K.csv’ saved [4019277/4019277]\n",
            "\n"
          ]
        }
      ],
      "source": [
        "!wget https://u-aizu.ac.jp/~udayrage/datasets/transactionalDatabases/Transactional_T10I4D100K.csv"
      ]
    },
    {
      "cell_type": "markdown",
      "source": [
        "#### Step 0.2 : Creating an MIS_T10.txt File"
      ],
      "metadata": {
        "id": "uWDJC5528Fd6"
      },
      "id": "uWDJC5528Fd6"
    },
    {
      "cell_type": "code",
      "execution_count": 3,
      "id": "6c461c9d",
      "metadata": {
        "id": "6c461c9d"
      },
      "outputs": [],
      "source": [
        "from PAMI.extras.calculateMISValues import usingBeta as ub\n",
        "inputFile = \"Transactional_T10I4D100K.csv\"\n",
        "beta = 1.8\n",
        "LS = 500\n",
        "sep = \"\\t\"\n",
        "output = \"MIS_T10.txt\"\n",
        "cd = ub.usingBeta(inputFile, beta, LS, sep)\n",
        "cd.calculateMIS()\n",
        "cd.save(output)"
      ]
    },
    {
      "cell_type": "markdown",
      "id": "de947b74-a287-4166-aeeb-050b9b9714f9",
      "metadata": {
        "id": "de947b74-a287-4166-aeeb-050b9b9714f9"
      },
      "source": [
        "#### Step 1: Import the CFPGrowthPlus algorithm"
      ]
    },
    {
      "cell_type": "code",
      "execution_count": 4,
      "id": "042a4670-502c-417c-afa5-ce8f4620b8c6",
      "metadata": {
        "id": "042a4670-502c-417c-afa5-ce8f4620b8c6"
      },
      "outputs": [],
      "source": [
        "from PAMI.multipleMinimumSupportBasedFrequentPattern.basic import CFPGrowthPlus as alg"
      ]
    },
    {
      "cell_type": "markdown",
      "id": "052b485e-ae76-477c-b423-7a9a8c49d153",
      "metadata": {
        "id": "052b485e-ae76-477c-b423-7a9a8c49d153"
      },
      "source": [
        "#### Step 2: Specify the following input parameters"
      ]
    },
    {
      "cell_type": "code",
      "execution_count": 5,
      "id": "9d781abf-2a4b-499e-8725-454d99f4eb31",
      "metadata": {
        "id": "9d781abf-2a4b-499e-8725-454d99f4eb31"
      },
      "outputs": [],
      "source": [
        "inputFile = 'Transactional_T10I4D100K.csv'\n",
        "\n",
        "MIS = 'MIS_T10.txt'\n",
        "\n",
        "seperator='\\t'"
      ]
    },
    {
      "cell_type": "markdown",
      "id": "92fbc06c-8e5b-4396-82e9-0b337ba54865",
      "metadata": {
        "id": "92fbc06c-8e5b-4396-82e9-0b337ba54865"
      },
      "source": [
        "#### Step 3: Execute the CFPGrowthPlus algorithm"
      ]
    },
    {
      "cell_type": "code",
      "execution_count": 6,
      "id": "38ee53a6-d1fd-4266-8c8c-06662540657d",
      "metadata": {
        "id": "38ee53a6-d1fd-4266-8c8c-06662540657d",
        "outputId": "af9815ef-23c0-46f2-cbd7-e563b8519977",
        "colab": {
          "base_uri": "https://localhost:8080/"
        }
      },
      "outputs": [
        {
          "output_type": "stream",
          "name": "stdout",
          "text": [
            "Frequent patterns were generated successfully using frequentPatternGrowth algorithm\n"
          ]
        }
      ],
      "source": [
        "obj = alg.CFPGrowthPlus(iFile=inputFile, MIS=MIS, sep=seperator)    #initialize\n",
        "obj.mine()            #Start the mining process"
      ]
    },
    {
      "cell_type": "markdown",
      "id": "3ee3603a-89da-44bb-bcd3-79cfa8db586a",
      "metadata": {
        "id": "3ee3603a-89da-44bb-bcd3-79cfa8db586a"
      },
      "source": [
        "#### Step 4: Storing the generated patterns"
      ]
    },
    {
      "cell_type": "markdown",
      "id": "8bee4a62-9478-46a3-a3a0-42bc4e2f1642",
      "metadata": {
        "id": "8bee4a62-9478-46a3-a3a0-42bc4e2f1642"
      },
      "source": [
        "##### Step 4.1: Storing the generated patterns in a file"
      ]
    },
    {
      "cell_type": "code",
      "execution_count": 7,
      "id": "c18de728-5cb4-446b-adae-872846e30b74",
      "metadata": {
        "id": "c18de728-5cb4-446b-adae-872846e30b74"
      },
      "outputs": [],
      "source": [
        "obj.save(outFile='frequentPatternsMinSupCount100.txt')"
      ]
    },
    {
      "cell_type": "markdown",
      "id": "62677159-e863-4233-858b-6b5359810c83",
      "metadata": {
        "id": "62677159-e863-4233-858b-6b5359810c83"
      },
      "source": [
        "##### Step 4.2. Storing the generated patterns in a data frame"
      ]
    },
    {
      "cell_type": "code",
      "execution_count": 8,
      "id": "64bdeb08-e80c-4bdf-bb35-d7c67b30f21a",
      "metadata": {
        "id": "64bdeb08-e80c-4bdf-bb35-d7c67b30f21a"
      },
      "outputs": [],
      "source": [
        "frequentPatternsDF= obj.getPatternsAsDataFrame()"
      ]
    },
    {
      "cell_type": "markdown",
      "id": "afc25934-1fa4-42b9-a0b0-1977a4dbd95f",
      "metadata": {
        "id": "afc25934-1fa4-42b9-a0b0-1977a4dbd95f"
      },
      "source": [
        "#### Step 5: Getting the statistics"
      ]
    },
    {
      "cell_type": "markdown",
      "id": "b6136a85-7820-4db8-8fbc-0395ab953aa3",
      "metadata": {
        "id": "b6136a85-7820-4db8-8fbc-0395ab953aa3"
      },
      "source": [
        "##### Step 5.1: Total number of discovered patterns"
      ]
    },
    {
      "cell_type": "code",
      "execution_count": 9,
      "id": "6b5bc0d1-4241-4971-bb23-8ab13ccabdad",
      "metadata": {
        "id": "6b5bc0d1-4241-4971-bb23-8ab13ccabdad",
        "colab": {
          "base_uri": "https://localhost:8080/"
        },
        "outputId": "ca49de9d-5d84-444a-b874-a2325627b0ef"
      },
      "outputs": [
        {
          "output_type": "stream",
          "name": "stdout",
          "text": [
            "Total No of patterns: 535\n"
          ]
        }
      ],
      "source": [
        "print('Total No of patterns: ' + str(len(frequentPatternsDF)))"
      ]
    },
    {
      "cell_type": "markdown",
      "id": "d0506690-7e8a-48a3-a012-33cfb7fb6351",
      "metadata": {
        "id": "d0506690-7e8a-48a3-a012-33cfb7fb6351"
      },
      "source": [
        "##### Step 5.2: Runtime consumed by the mining algorithm"
      ]
    },
    {
      "cell_type": "code",
      "execution_count": 10,
      "id": "55912f44-d238-41f0-9fab-9ad60f08ab21",
      "metadata": {
        "id": "55912f44-d238-41f0-9fab-9ad60f08ab21",
        "colab": {
          "base_uri": "https://localhost:8080/"
        },
        "outputId": "acb08538-3af3-4ea1-f0c3-ac120cb19fc5"
      },
      "outputs": [
        {
          "output_type": "stream",
          "name": "stdout",
          "text": [
            "Runtime: 19.176114320755005\n"
          ]
        }
      ],
      "source": [
        "print('Runtime: ' + str(obj.getRuntime()))"
      ]
    },
    {
      "cell_type": "markdown",
      "id": "d794fce7-aaad-45f5-a583-21c5939b1022",
      "metadata": {
        "id": "d794fce7-aaad-45f5-a583-21c5939b1022"
      },
      "source": [
        "##### Step 5.3: Total Memory consumed by the mining algorithm"
      ]
    },
    {
      "cell_type": "code",
      "execution_count": 11,
      "id": "880ccc22-2606-4e55-a4ef-2a8deac28efc",
      "metadata": {
        "id": "880ccc22-2606-4e55-a4ef-2a8deac28efc",
        "colab": {
          "base_uri": "https://localhost:8080/"
        },
        "outputId": "d5bb95f0-8c0a-401b-82f1-a22f5d5f4b94"
      },
      "outputs": [
        {
          "output_type": "stream",
          "name": "stdout",
          "text": [
            "Memory (RSS): 581443584\n",
            "Memory (USS): 527093760\n"
          ]
        }
      ],
      "source": [
        "print('Memory (RSS): ' + str(obj.getMemoryRSS()))\n",
        "print('Memory (USS): ' + str(obj.getMemoryUSS()))"
      ]
    },
    {
      "cell_type": "markdown",
      "metadata": {
        "collapsed": false,
        "id": "uUw_1guCqiHn"
      },
      "source": [
        "# Advanced Tutorial on Implementing CFPGrowthPlus Algorithm"
      ],
      "id": "uUw_1guCqiHn"
    },
    {
      "cell_type": "markdown",
      "metadata": {
        "collapsed": false,
        "id": "8nfimqzNqiHo"
      },
      "source": [
        "In this tutorial, we will discuss the second approach to find frequent patterns in big data using CFPGrowthPlus algorithm.\n",
        "\n",
        "[__Advanced approach:__](#advApproach) Here, we generalize the basic approach by presenting the steps to discover frequent patterns using multiple beta values."
      ],
      "id": "8nfimqzNqiHo"
    },
    {
      "cell_type": "markdown",
      "metadata": {
        "collapsed": false,
        "id": "8ueMGJd-qiHo"
      },
      "source": [
        "***"
      ],
      "id": "8ueMGJd-qiHo"
    },
    {
      "cell_type": "markdown",
      "metadata": {
        "collapsed": false,
        "id": "Vt0Kh0FmqiHo"
      },
      "source": [
        "#### In this tutorial, we explain how the CFPGrowthPlus algorithm can be implemented by varying the beta values"
      ],
      "id": "Vt0Kh0FmqiHo"
    },
    {
      "cell_type": "markdown",
      "metadata": {
        "collapsed": false,
        "id": "ebG9QqXQqiHo"
      },
      "source": [
        "#### Step 1: Import the CFPGrowthPlus algorithm and pandas data frame"
      ],
      "id": "ebG9QqXQqiHo"
    },
    {
      "cell_type": "code",
      "execution_count": 12,
      "metadata": {
        "id": "ZoXyptP6qiHo"
      },
      "outputs": [],
      "source": [
        "from PAMI.multipleMinimumSupportBasedFrequentPattern.basic import CFPGrowthPlus as alg\n",
        "import pandas as pd"
      ],
      "id": "ZoXyptP6qiHo"
    },
    {
      "cell_type": "markdown",
      "metadata": {
        "collapsed": false,
        "id": "I6-gvVJ5qiHp"
      },
      "source": [
        "#### Step 2: Specify the following input parameters"
      ],
      "id": "I6-gvVJ5qiHp"
    },
    {
      "cell_type": "code",
      "execution_count": 22,
      "metadata": {
        "id": "z132gyB_qiHp"
      },
      "outputs": [],
      "source": [
        "inputFile = 'Transactional_T10I4D100K.csv'\n",
        "seperator='\\t'\n",
        "betaList = [0.1, 0.2,0.3,0.4,0.5,0.6,0.7,0.8,0.9,1]\n",
        "\n",
        "result = pd.DataFrame(columns=['algorithm', 'minSup', 'patterns', 'runtime', 'memory'])\n",
        "#initialize a data frame to store the results of CFPGrowthPlus algorithm"
      ],
      "id": "z132gyB_qiHp"
    },
    {
      "cell_type": "markdown",
      "metadata": {
        "collapsed": false,
        "id": "EsG011_jqiHp"
      },
      "source": [
        "#### Step 3: Execute the CFPGrowthPlus algorithm using different beta values"
      ],
      "id": "EsG011_jqiHp"
    },
    {
      "cell_type": "code",
      "execution_count": 23,
      "metadata": {
        "id": "G8qrwb_2qiHp",
        "colab": {
          "base_uri": "https://localhost:8080/"
        },
        "outputId": "8a5aff6e-af21-4c11-c561-b30dab553696"
      },
      "outputs": [
        {
          "output_type": "stream",
          "name": "stdout",
          "text": [
            "Frequent patterns were generated successfully using frequentPatternGrowth algorithm\n",
            "Frequent patterns were generated successfully using frequentPatternGrowth algorithm\n",
            "Frequent patterns were generated successfully using frequentPatternGrowth algorithm\n",
            "Frequent patterns were generated successfully using frequentPatternGrowth algorithm\n",
            "Frequent patterns were generated successfully using frequentPatternGrowth algorithm\n",
            "Frequent patterns were generated successfully using frequentPatternGrowth algorithm\n",
            "Frequent patterns were generated successfully using frequentPatternGrowth algorithm\n",
            "Frequent patterns were generated successfully using frequentPatternGrowth algorithm\n",
            "Frequent patterns were generated successfully using frequentPatternGrowth algorithm\n",
            "Frequent patterns were generated successfully using frequentPatternGrowth algorithm\n"
          ]
        }
      ],
      "source": [
        "for beta in betaList:\n",
        "  from PAMI.extras.calculateMISValues import usingBeta as ub\n",
        "  inputFile = \"Transactional_T10I4D100K.csv\"\n",
        "  beta = beta\n",
        "  LS = 100\n",
        "  sep = \"\\t\"\n",
        "  MISfile = \"MIS_T10.txt\"\n",
        "  cd = ub.usingBeta(inputFile, beta, LS, sep)\n",
        "  cd.calculateMIS()\n",
        "  cd.save(MISfile)\n",
        "  obj = alg.CFPGrowthPlus(iFile=inputFile, MIS=MISfile, sep=seperator)\n",
        "  obj.mine()\n",
        "#store the results in the data frame\n",
        "  result.loc[result.shape[0]] = ['CFPGrowthPlus', beta, len(obj.getPatterns()), obj.getRuntime(), obj.getMemoryRSS()]\n"
      ],
      "id": "G8qrwb_2qiHp"
    },
    {
      "cell_type": "code",
      "execution_count": 24,
      "metadata": {
        "id": "fdxVkrU-qiHq",
        "colab": {
          "base_uri": "https://localhost:8080/"
        },
        "outputId": "4888eb8c-70bf-4025-d92a-bc35944b3f84"
      },
      "outputs": [
        {
          "output_type": "stream",
          "name": "stdout",
          "text": [
            "       algorithm  minSup  patterns    runtime     memory\n",
            "0  CFPGrowthPlus     0.1       936  14.058609  711897088\n",
            "1  CFPGrowthPlus     0.2       936  16.360479  712052736\n",
            "2  CFPGrowthPlus     0.3       936  15.058426  714321920\n",
            "3  CFPGrowthPlus     0.4       936  15.264088  714047488\n",
            "4  CFPGrowthPlus     0.5       936  14.016433  714207232\n",
            "5  CFPGrowthPlus     0.6       936  14.029211  714731520\n",
            "6  CFPGrowthPlus     0.7       936  15.059381  714715136\n",
            "7  CFPGrowthPlus     0.8       936  16.258358  714452992\n",
            "8  CFPGrowthPlus     0.9       936  14.137519  714670080\n",
            "9  CFPGrowthPlus     1.0       936  14.508618  714526720\n"
          ]
        }
      ],
      "source": [
        "print(result)"
      ],
      "id": "fdxVkrU-qiHq"
    },
    {
      "cell_type": "markdown",
      "metadata": {
        "collapsed": false,
        "id": "0J3UWpDLqiHq"
      },
      "source": [
        "#### Step 5: Visualizing the results"
      ],
      "id": "0J3UWpDLqiHq"
    },
    {
      "cell_type": "markdown",
      "metadata": {
        "collapsed": false,
        "id": "cY0YRESzqiHq"
      },
      "source": [
        "##### Step 5.1 Importing the plot library"
      ],
      "id": "cY0YRESzqiHq"
    },
    {
      "cell_type": "code",
      "execution_count": 25,
      "metadata": {
        "id": "BG2czf9XqiHq"
      },
      "outputs": [],
      "source": [
        "from PAMI.extras.graph import plotLineGraphsFromDataFrame as plt"
      ],
      "id": "BG2czf9XqiHq"
    },
    {
      "cell_type": "markdown",
      "metadata": {
        "collapsed": false,
        "id": "mu4CTsMEqiHr"
      },
      "source": [
        "##### Step 5.2. Plotting the number of patterns"
      ],
      "id": "mu4CTsMEqiHr"
    },
    {
      "cell_type": "code",
      "execution_count": 17,
      "metadata": {
        "id": "E102US0VqiHr",
        "colab": {
          "base_uri": "https://localhost:8080/",
          "height": 1000
        },
        "outputId": "5ef4ab11-c814-4e5c-c488-81f4d10af5d9"
      },
      "outputs": [
        {
          "output_type": "display_data",
          "data": {
            "text/plain": [
              "<Figure size 640x480 with 1 Axes>"
            ],
            "image/png": "[encoded data removed]"
          },
          "metadata": {}
        },
        {
          "output_type": "stream",
          "name": "stdout",
          "text": [
            "Graph for No Of Patterns is successfully generated!\n"
          ]
        },
        {
          "output_type": "display_data",
          "data": {
            "text/plain": [
              "<Figure size 640x480 with 1 Axes>"
            ],
            "image/png": "[encoded data removed]"
          },
          "metadata": {}
        },
        {
          "output_type": "stream",
          "name": "stdout",
          "text": [
            "Graph for Runtime taken is successfully generated!\n"
          ]
        },
        {
          "output_type": "display_data",
          "data": {
            "text/plain": [
              "<Figure size 640x480 with 1 Axes>"
            ],
            "image/png": "[encoded data removed]"
          },
          "metadata": {}
        },
        {
          "output_type": "stream",
          "name": "stdout",
          "text": [
            "Graph for memory consumption is successfully generated!\n"
          ]
        }
      ],
      "source": [
        "ab = plt.plotGraphsFromDataFrame(result)\n",
        "ab.plotGraphsFromDataFrame() #drawPlots()"
      ],
      "id": "E102US0VqiHr"
    },
    {
      "cell_type": "markdown",
      "metadata": {
        "collapsed": false,
        "id": "vi0UPM-aqiHr"
      },
      "source": [
        "### Step 6: Saving the results as latex files"
      ],
      "id": "vi0UPM-aqiHr"
    },
    {
      "cell_type": "code",
      "execution_count": 18,
      "metadata": {
        "id": "XqXEszHJqiHr",
        "colab": {
          "base_uri": "https://localhost:8080/",
          "height": 332
        },
        "outputId": "9c9840aa-3a03-434f-e011-e4f0b06ba418"
      },
      "outputs": [
        {
          "output_type": "error",
          "ename": "ImportError",
          "evalue": "cannot import name 'generateLatexFileFromDataFrame' from 'PAMI.extras.graph' (/usr/local/lib/python3.10/dist-packages/PAMI/extras/graph/__init__.py)",
          "traceback": [
            "\u001b[0;31m---------------------------------------------------------------------------\u001b[0m",
            "\u001b[0;31mImportError\u001b[0m                               Traceback (most recent call last)",
            "\u001b[0;32m<ipython-input-18-68528efd270c>\u001b[0m in \u001b[0;36m<cell line: 1>\u001b[0;34m()\u001b[0m\n\u001b[0;32m----> 1\u001b[0;31m \u001b[0;32mfrom\u001b[0m \u001b[0mPAMI\u001b[0m\u001b[0;34m.\u001b[0m\u001b[0mextras\u001b[0m\u001b[0;34m.\u001b[0m\u001b[0mgraph\u001b[0m \u001b[0;32mimport\u001b[0m \u001b[0mgenerateLatexFileFromDataFrame\u001b[0m \u001b[0;32mas\u001b[0m \u001b[0mgdf\u001b[0m\u001b[0;34m\u001b[0m\u001b[0;34m\u001b[0m\u001b[0m\n\u001b[0m\u001b[1;32m      2\u001b[0m \u001b[0mgdf\u001b[0m\u001b[0;34m.\u001b[0m\u001b[0mgenerateLatexCode\u001b[0m\u001b[0;34m(\u001b[0m\u001b[0mresult\u001b[0m\u001b[0;34m)\u001b[0m\u001b[0;34m\u001b[0m\u001b[0;34m\u001b[0m\u001b[0m\n",
            "\u001b[0;31mImportError\u001b[0m: cannot import name 'generateLatexFileFromDataFrame' from 'PAMI.extras.graph' (/usr/local/lib/python3.10/dist-packages/PAMI/extras/graph/__init__.py)",
            "",
            "\u001b[0;31m---------------------------------------------------------------------------\u001b[0;32m\nNOTE: If your import is failing due to a missing package, you can\nmanually install dependencies using either !pip or !apt.\n\nTo view examples of installing some common dependencies, click the\n\"Open Examples\" button below.\n\u001b[0;31m---------------------------------------------------------------------------\u001b[0m\n"
          ],
          "errorDetails": {
            "actions": [
              {
                "action": "open_url",
                "actionText": "Open Examples",
                "url": "/notebooks/snippets/importing_libraries.ipynb"
              }
            ]
          }
        }
      ],
      "source": [
        "from PAMI.extras.graph import generateLatexFileFromDataFrame as gdf\n",
        "gdf.generateLatexCode(result)"
      ],
      "id": "XqXEszHJqiHr"
    }
  ],
  "metadata": {
    "kernelspec": {
      "display_name": "Python 3 (ipykernel)",
      "language": "python",
      "name": "python3"
    },
    "language_info": {
      "codemirror_mode": {
        "name": "ipython",
        "version": 3
      },
      "file_extension": ".py",
      "mimetype": "text/x-python",
      "name": "python",
      "nbconvert_exporter": "python",
      "pygments_lexer": "ipython3",
      "version": "3.11.5"
    },
    "colab": {
      "provenance": [],
      "include_colab_link": true
    }
  },
  "nbformat": 4,
  "nbformat_minor": 5
}